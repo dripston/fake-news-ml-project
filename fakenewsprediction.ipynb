{
  "nbformat": 4,
  "nbformat_minor": 0,
  "metadata": {
    "colab": {
      "provenance": [],
      "authorship_tag": "ABX9TyMnkVNz2oTA5OScWqYjUgK2",
      "include_colab_link": true
    },
    "kernelspec": {
      "name": "python3",
      "display_name": "Python 3"
    },
    "language_info": {
      "name": "python"
    }
  },
  "cells": [
    {
      "cell_type": "markdown",
      "metadata": {
        "id": "view-in-github",
        "colab_type": "text"
      },
      "source": [
        "<a href=\"https://colab.research.google.com/github/dripston/fake-news-ml-project/blob/main/fakenewsprediction.ipynb\" target=\"_parent\"><img src=\"https://colab.research.google.com/assets/colab-badge.svg\" alt=\"Open In Colab\"/></a>"
      ]
    },
    {
      "cell_type": "code",
      "execution_count": 7,
      "metadata": {
        "colab": {
          "base_uri": "https://localhost:8080/",
          "height": 91
        },
        "id": "NVq09xRvaqpN",
        "outputId": "5c392b13-cf27-4f1f-edd3-62484663bb14"
      },
      "outputs": [
        {
          "output_type": "display_data",
          "data": {
            "text/plain": [
              "<IPython.core.display.HTML object>"
            ],
            "text/html": [
              "\n",
              "     <input type=\"file\" id=\"files-007e1f79-7ba2-4777-81ed-5214707622cd\" name=\"files[]\" multiple disabled\n",
              "        style=\"border:none\" />\n",
              "     <output id=\"result-007e1f79-7ba2-4777-81ed-5214707622cd\">\n",
              "      Upload widget is only available when the cell has been executed in the\n",
              "      current browser session. Please rerun this cell to enable.\n",
              "      </output>\n",
              "      <script>// Copyright 2017 Google LLC\n",
              "//\n",
              "// Licensed under the Apache License, Version 2.0 (the \"License\");\n",
              "// you may not use this file except in compliance with the License.\n",
              "// You may obtain a copy of the License at\n",
              "//\n",
              "//      http://www.apache.org/licenses/LICENSE-2.0\n",
              "//\n",
              "// Unless required by applicable law or agreed to in writing, software\n",
              "// distributed under the License is distributed on an \"AS IS\" BASIS,\n",
              "// WITHOUT WARRANTIES OR CONDITIONS OF ANY KIND, either express or implied.\n",
              "// See the License for the specific language governing permissions and\n",
              "// limitations under the License.\n",
              "\n",
              "/**\n",
              " * @fileoverview Helpers for google.colab Python module.\n",
              " */\n",
              "(function(scope) {\n",
              "function span(text, styleAttributes = {}) {\n",
              "  const element = document.createElement('span');\n",
              "  element.textContent = text;\n",
              "  for (const key of Object.keys(styleAttributes)) {\n",
              "    element.style[key] = styleAttributes[key];\n",
              "  }\n",
              "  return element;\n",
              "}\n",
              "\n",
              "// Max number of bytes which will be uploaded at a time.\n",
              "const MAX_PAYLOAD_SIZE = 100 * 1024;\n",
              "\n",
              "function _uploadFiles(inputId, outputId) {\n",
              "  const steps = uploadFilesStep(inputId, outputId);\n",
              "  const outputElement = document.getElementById(outputId);\n",
              "  // Cache steps on the outputElement to make it available for the next call\n",
              "  // to uploadFilesContinue from Python.\n",
              "  outputElement.steps = steps;\n",
              "\n",
              "  return _uploadFilesContinue(outputId);\n",
              "}\n",
              "\n",
              "// This is roughly an async generator (not supported in the browser yet),\n",
              "// where there are multiple asynchronous steps and the Python side is going\n",
              "// to poll for completion of each step.\n",
              "// This uses a Promise to block the python side on completion of each step,\n",
              "// then passes the result of the previous step as the input to the next step.\n",
              "function _uploadFilesContinue(outputId) {\n",
              "  const outputElement = document.getElementById(outputId);\n",
              "  const steps = outputElement.steps;\n",
              "\n",
              "  const next = steps.next(outputElement.lastPromiseValue);\n",
              "  return Promise.resolve(next.value.promise).then((value) => {\n",
              "    // Cache the last promise value to make it available to the next\n",
              "    // step of the generator.\n",
              "    outputElement.lastPromiseValue = value;\n",
              "    return next.value.response;\n",
              "  });\n",
              "}\n",
              "\n",
              "/**\n",
              " * Generator function which is called between each async step of the upload\n",
              " * process.\n",
              " * @param {string} inputId Element ID of the input file picker element.\n",
              " * @param {string} outputId Element ID of the output display.\n",
              " * @return {!Iterable<!Object>} Iterable of next steps.\n",
              " */\n",
              "function* uploadFilesStep(inputId, outputId) {\n",
              "  const inputElement = document.getElementById(inputId);\n",
              "  inputElement.disabled = false;\n",
              "\n",
              "  const outputElement = document.getElementById(outputId);\n",
              "  outputElement.innerHTML = '';\n",
              "\n",
              "  const pickedPromise = new Promise((resolve) => {\n",
              "    inputElement.addEventListener('change', (e) => {\n",
              "      resolve(e.target.files);\n",
              "    });\n",
              "  });\n",
              "\n",
              "  const cancel = document.createElement('button');\n",
              "  inputElement.parentElement.appendChild(cancel);\n",
              "  cancel.textContent = 'Cancel upload';\n",
              "  const cancelPromise = new Promise((resolve) => {\n",
              "    cancel.onclick = () => {\n",
              "      resolve(null);\n",
              "    };\n",
              "  });\n",
              "\n",
              "  // Wait for the user to pick the files.\n",
              "  const files = yield {\n",
              "    promise: Promise.race([pickedPromise, cancelPromise]),\n",
              "    response: {\n",
              "      action: 'starting',\n",
              "    }\n",
              "  };\n",
              "\n",
              "  cancel.remove();\n",
              "\n",
              "  // Disable the input element since further picks are not allowed.\n",
              "  inputElement.disabled = true;\n",
              "\n",
              "  if (!files) {\n",
              "    return {\n",
              "      response: {\n",
              "        action: 'complete',\n",
              "      }\n",
              "    };\n",
              "  }\n",
              "\n",
              "  for (const file of files) {\n",
              "    const li = document.createElement('li');\n",
              "    li.append(span(file.name, {fontWeight: 'bold'}));\n",
              "    li.append(span(\n",
              "        `(${file.type || 'n/a'}) - ${file.size} bytes, ` +\n",
              "        `last modified: ${\n",
              "            file.lastModifiedDate ? file.lastModifiedDate.toLocaleDateString() :\n",
              "                                    'n/a'} - `));\n",
              "    const percent = span('0% done');\n",
              "    li.appendChild(percent);\n",
              "\n",
              "    outputElement.appendChild(li);\n",
              "\n",
              "    const fileDataPromise = new Promise((resolve) => {\n",
              "      const reader = new FileReader();\n",
              "      reader.onload = (e) => {\n",
              "        resolve(e.target.result);\n",
              "      };\n",
              "      reader.readAsArrayBuffer(file);\n",
              "    });\n",
              "    // Wait for the data to be ready.\n",
              "    let fileData = yield {\n",
              "      promise: fileDataPromise,\n",
              "      response: {\n",
              "        action: 'continue',\n",
              "      }\n",
              "    };\n",
              "\n",
              "    // Use a chunked sending to avoid message size limits. See b/62115660.\n",
              "    let position = 0;\n",
              "    do {\n",
              "      const length = Math.min(fileData.byteLength - position, MAX_PAYLOAD_SIZE);\n",
              "      const chunk = new Uint8Array(fileData, position, length);\n",
              "      position += length;\n",
              "\n",
              "      const base64 = btoa(String.fromCharCode.apply(null, chunk));\n",
              "      yield {\n",
              "        response: {\n",
              "          action: 'append',\n",
              "          file: file.name,\n",
              "          data: base64,\n",
              "        },\n",
              "      };\n",
              "\n",
              "      let percentDone = fileData.byteLength === 0 ?\n",
              "          100 :\n",
              "          Math.round((position / fileData.byteLength) * 100);\n",
              "      percent.textContent = `${percentDone}% done`;\n",
              "\n",
              "    } while (position < fileData.byteLength);\n",
              "  }\n",
              "\n",
              "  // All done.\n",
              "  yield {\n",
              "    response: {\n",
              "      action: 'complete',\n",
              "    }\n",
              "  };\n",
              "}\n",
              "\n",
              "scope.google = scope.google || {};\n",
              "scope.google.colab = scope.google.colab || {};\n",
              "scope.google.colab._files = {\n",
              "  _uploadFiles,\n",
              "  _uploadFilesContinue,\n",
              "};\n",
              "})(self);\n",
              "</script> "
            ]
          },
          "metadata": {}
        },
        {
          "output_type": "stream",
          "name": "stdout",
          "text": [
            "Saving kaggle.json to kaggle.json\n"
          ]
        },
        {
          "output_type": "execute_result",
          "data": {
            "text/plain": [
              "{'kaggle.json': b'{\"username\":\"rehaann\",\"key\":\"76d0365f78bfc54051548159ce83f0c8\"}'}"
            ]
          },
          "metadata": {},
          "execution_count": 7
        }
      ],
      "source": [
        "#importing kaggle.json ZipFile\n",
        "from google.colab import files\n",
        "files.upload()"
      ]
    },
    {
      "cell_type": "code",
      "source": [
        "!mkdir -p ~/.kaggle\n",
        "!cp kaggle.json ~/.kaggle/\n",
        "!chmod 600 ~/.kaggle/kaggle.json\n"
      ],
      "metadata": {
        "id": "yIN2AG9Odlk_"
      },
      "execution_count": 8,
      "outputs": []
    },
    {
      "cell_type": "code",
      "source": [
        "!kaggle competitions download -c fakenewskdd2020"
      ],
      "metadata": {
        "colab": {
          "base_uri": "https://localhost:8080/"
        },
        "id": "hDCMc_a7e0E5",
        "outputId": "afe19bbd-e891-455f-a4c0-db84f1594643"
      },
      "execution_count": 9,
      "outputs": [
        {
          "output_type": "stream",
          "name": "stdout",
          "text": [
            "Downloading fakenewskdd2020.zip to /content\n",
            "\r  0% 0.00/9.16M [00:00<?, ?B/s]\n",
            "\r100% 9.16M/9.16M [00:00<00:00, 855MB/s]\n"
          ]
        }
      ]
    },
    {
      "cell_type": "code",
      "source": [
        "from zipfile import ZipFile\n",
        "\n",
        "with ZipFile('/content/fakenewskdd2020.zip', 'r') as z:\n",
        "    z.extractall('/content/')"
      ],
      "metadata": {
        "id": "zZZtx5O5e3-s"
      },
      "execution_count": 10,
      "outputs": []
    },
    {
      "cell_type": "code",
      "source": [
        "import numpy as np\n",
        "import pandas as pd\n",
        "import re\n",
        "from nltk.corpus import stopwords\n",
        "from nltk.stem.porter import PorterStemmer\n",
        "from sklearn.feature_extraction.text import TfidfVectorizer\n",
        "from sklearn.model_selection import train_test_split\n",
        "from sklearn.linear_model import LogisticRegression\n",
        "from sklearn.metrics import accuracy_score"
      ],
      "metadata": {
        "id": "VLL0wtVqfbnf"
      },
      "execution_count": 11,
      "outputs": []
    },
    {
      "cell_type": "code",
      "source": [
        "import nltk\n",
        "nltk.download('stopwords')"
      ],
      "metadata": {
        "colab": {
          "base_uri": "https://localhost:8080/"
        },
        "id": "i3hHvmzlgf5A",
        "outputId": "51d97eba-168b-4d30-9dcf-42ba67309abd"
      },
      "execution_count": 12,
      "outputs": [
        {
          "output_type": "stream",
          "name": "stderr",
          "text": [
            "[nltk_data] Downloading package stopwords to /root/nltk_data...\n",
            "[nltk_data]   Unzipping corpora/stopwords.zip.\n"
          ]
        },
        {
          "output_type": "execute_result",
          "data": {
            "text/plain": [
              "True"
            ]
          },
          "metadata": {},
          "execution_count": 12
        }
      ]
    },
    {
      "cell_type": "code",
      "source": [
        "print(stopwords.words('english'))"
      ],
      "metadata": {
        "colab": {
          "base_uri": "https://localhost:8080/"
        },
        "id": "_vKhUle5lPgR",
        "outputId": "9e2e5a3b-6e31-48ed-fc82-8436edcc5267"
      },
      "execution_count": 13,
      "outputs": [
        {
          "output_type": "stream",
          "name": "stdout",
          "text": [
            "['a', 'about', 'above', 'after', 'again', 'against', 'ain', 'all', 'am', 'an', 'and', 'any', 'are', 'aren', \"aren't\", 'as', 'at', 'be', 'because', 'been', 'before', 'being', 'below', 'between', 'both', 'but', 'by', 'can', 'couldn', \"couldn't\", 'd', 'did', 'didn', \"didn't\", 'do', 'does', 'doesn', \"doesn't\", 'doing', 'don', \"don't\", 'down', 'during', 'each', 'few', 'for', 'from', 'further', 'had', 'hadn', \"hadn't\", 'has', 'hasn', \"hasn't\", 'have', 'haven', \"haven't\", 'having', 'he', \"he'd\", \"he'll\", 'her', 'here', 'hers', 'herself', \"he's\", 'him', 'himself', 'his', 'how', 'i', \"i'd\", 'if', \"i'll\", \"i'm\", 'in', 'into', 'is', 'isn', \"isn't\", 'it', \"it'd\", \"it'll\", \"it's\", 'its', 'itself', \"i've\", 'just', 'll', 'm', 'ma', 'me', 'mightn', \"mightn't\", 'more', 'most', 'mustn', \"mustn't\", 'my', 'myself', 'needn', \"needn't\", 'no', 'nor', 'not', 'now', 'o', 'of', 'off', 'on', 'once', 'only', 'or', 'other', 'our', 'ours', 'ourselves', 'out', 'over', 'own', 're', 's', 'same', 'shan', \"shan't\", 'she', \"she'd\", \"she'll\", \"she's\", 'should', 'shouldn', \"shouldn't\", \"should've\", 'so', 'some', 'such', 't', 'than', 'that', \"that'll\", 'the', 'their', 'theirs', 'them', 'themselves', 'then', 'there', 'these', 'they', \"they'd\", \"they'll\", \"they're\", \"they've\", 'this', 'those', 'through', 'to', 'too', 'under', 'until', 'up', 've', 'very', 'was', 'wasn', \"wasn't\", 'we', \"we'd\", \"we'll\", \"we're\", 'were', 'weren', \"weren't\", \"we've\", 'what', 'when', 'where', 'which', 'while', 'who', 'whom', 'why', 'will', 'with', 'won', \"won't\", 'wouldn', \"wouldn't\", 'y', 'you', \"you'd\", \"you'll\", 'your', \"you're\", 'yours', 'yourself', 'yourselves', \"you've\"]\n"
          ]
        }
      ]
    },
    {
      "cell_type": "markdown",
      "source": [
        "DATA PRE-PROCESSING"
      ],
      "metadata": {
        "id": "O4myEcFelgkc"
      }
    },
    {
      "cell_type": "code",
      "source": [
        "# quick peek at the raw file to inspect problematic formatting\n",
        "with open('/content/train.csv', 'r', encoding='utf-8', errors='replace') as f:\n",
        "    for i, line in enumerate(f):\n",
        "        print(i+1, repr(line[:500]))   # show first 500 chars of each line\n",
        "        if i >= 19:\n",
        "            break\n"
      ],
      "metadata": {
        "colab": {
          "base_uri": "https://localhost:8080/"
        },
        "id": "PQzrOC_Fmm9t",
        "outputId": "04903bac-aadc-49ed-81be-ae785fee5181"
      },
      "execution_count": 14,
      "outputs": [
        {
          "output_type": "stream",
          "name": "stdout",
          "text": [
            "1 'text\\tlabel\\n'\n",
            "2 'Get the latest from TODAY Sign up for our newsletter  No one ever truly gets over losing a loved one, and Blake Shelton is no exception. He was just 14 when his older brother Richie died on Nov. 13, 1990. And, as Shelton noted in a tweet Monday, \"It changed my life forever.\"  Richie was 24 when he died in a car accident in the Sheltons\\' home state of Oklahoma. Two years ago, Shelton sent out a message for the 25th anniversary of his loss:  Richie, who was Blake\\'s half-brother (they shared a moth'\n",
            "3 '2d  Conan On The Funeral Trump Will Be Invited To - CONAN on TBS\\t1\\n'\n",
            "4 'It’s safe to say that Instagram Stories has far surpassed its competitor Snapchat in popularity since it’s inception two years ago—and your favorite celebrities have hopped on the social media trend. Unlike a highly curated photo feed, Instagram Stories is where celebrities seem to be comfortable enough to be raw and open.  Need something to do while you’re waiting in line or on a short break? Take a peek at these celebrities’ Instagram Stories for some surprisingly engaging entertainment.  Busy'\n",
            "5 'Much like a certain Amazon goddess with a lasso, there are no heights that director Patty Jenkins can’t scale. Her blockbuster “Wonder Woman,” which has grossed a staggering $821 million worldwide since it opened in the summer, has become a rallying call for women everywhere and a beacon of empowerment in a Donald Trump-led world. Beyond all the Instagram posts of little girls decked out in “WW” regalia while seeing the film and an endorsement from Hillary Clinton, Jenkins recently cracked anoth'\n",
            "6 'At a time when the perfect outfit is just one click away, the high demand for trendy clothing has become a major problem for the earth. Landfills are piling up with unwanted garments in earth-damaging materials, and the inhumane manufacturing process is wreaking havoc on the fashion industry. While the issue is certainly dire, there are myriad ways to shop without hurting the environment. Over the last few years, emerging and established designers have made a commitment to sustainability with re'\n",
            "7 'When Reese Witherspoon was 17, she had already appeared in four films. Still, she took an unlikely part-time job, as an intern in Disney’s post-production department. “I wanted to learn about editing, visual correction, and sound mixing,” she tells me 25 years later. Not long after, she worked as a production assistant on the 1995 Denzel Washington film Devil in a Blue Dress, helping with casting, among other things. Also: “I parked Denzel’s Porsche!”  advertisement  advertisement  That inquisit'\n",
            "8 'It’s official! WAGS Miami stars Ashley Nicole Roberts and Philip Wheeler are married. The newlyweds tied the knot during a romantic beachside wedding in Curacao on Sunday, May 14, Us Weekly can exclusively confirm.  The Atlanta Falcons linebacker, 32, and reality star exchanged vows at sunset before some 100 guests.  “I really wanted to pick a place that no one I knew had been before … so it would be an experience not just for me and Phil, but for everyone,” Roberts told Us of the location ahead'\n",
            "9 'On March 24, 2018, one month and ten days after the February 14 shooting at Marjory Stoneman Douglas High School in Parkland, Florida, student-led pro-gun control “March For Our Lives” demonstrations took place across America, including in Washington, D.C.The word “Our” in March For Our Lives refers to students.From Wikipedia:March For Our Lives was a student-led demonstration in support of tighter gun control that took place on March 24, 2018, in Washington, D.C., with over 800 sibling events t'\n",
            "10 'A mosque in Georgia is under fire after they solicited donations allegedly for victims of Hurricane Harvey but decided to keep them and send them to a different kind of refugee instead.“Because Donald Trump will not let victims of war and crime seek solitude in the United States, we can not in good conscience help his people when so many Muslims can not find shelter,” said Imam Sharaj Alkalb of the Ramazala Mosque in Peachton. “Allah has told us that we must consider where the need is greater an'\n",
            "11 'Scott Disick is sticking up for Khloe Kardashian.  In a sneak peek clip from an all-new episode of Keeping Up With the Kardashians, the 35-year-old reality star pulls a prank on Kris Jenner after Khloe claims she was art shamed by her famous momager.  Scott meets up with an actor named Richardson Jones, who he hires to play \"very famous artist\" Art Vandelay, a person made up by George Costanza on Seinfeld.  \"Today will be the day that we introduce Kris to this artist,\" Scott explains. \"Hopefully'\n",
            "12 'Not so fast. Despite reports, a source tells Us Weekly that Angelina Jolie is not off the market.  “Angie isn’t dating a real estate agent. She isn’t even dating at the moment,” the insider reveals. “Yes, she has hung out with a couple of guys over the last year, but it’s extremely low-key.”  The Salt actress, 42, and estranged husband Brad Pitt officially called it quits in September 2016 after more than 10 years together and two years of marriage. They are parents to Maddox, 16, Pax, 14, Zahar'\n",
            "13 'Brad Pitt and Angelina Jolie’s custody arrangement was put in place with the best interest of their kids in mind. However, it appears the “Fury” actor is more thrilled about the perks that will come along with the new agreement.  Pitt, who shares Maddox, 16, Pax, 14, Zahara, 13, Shiloh, 12, and twins Vivienne and Knox, 9, with Jolie, is reportedly excited about being able to spend more time with his children following the previous arrangement, which damaged their relationship.  “Brad was always '\n",
            "14 'Brad Pitt may be finding love again, but a source close to him EXCLUSIVELY tells HollywoodLife.com that the actor doubts the ‘right guy’ exists for Angelina Jolie. Ouch!  After causing everyone who still believed in true love to shudder collectively after hearing that the two of them were breaking up, Brad Pitt, 53, and Angelina Jolie, 42, still don’t seem to be on the friendliest of terms after their split. A source close to Brad told HollywoodLife.com EXCLUSIVELY that Brad doesn’t think a long'\n",
            "15 'Brad Pitt.  Noted sculptor Brad Pitt is famously single — and apparently fighting off gangs of thirsty women everywhere he goes. So it should come as no surprise that sometimes the baggy-pants aficionado chooses to go incognito with the ladies by using a different name. Or should we say, his real name.  As Wikipedia confirms, Brad Pitt was actually born William Bradley Pitt. And wouldn’t you know, according to “Page Six,” dear ol’ Brad recently introduced himself as William when chatting with a '\n",
            "16 \"He's the U.S. actor with many well-known film credits to his name - including the appropriately titled Daddy's Home.  And Rose Byrne's partner Bobby Cannavale certainly seems to live up to the title, enjoying his new role as father to their baby son Rocco, recently sharing several Instagram snaps of them enjoying quality father-son time.  While on a family holiday in Florida this week, the Boardwalk Empire star, 45, posted an adorable photo of the seven-week-old as the baby rested poolside while\"\n",
            "17 'It wouldn\\'t be a holiday without a Kardashian blowout! And this year, the family went all-out at Khloe Kardashian\\'s home.  Naturally, the Revenge Body host, 33, started the day with an intensive workout, stopping to snap a selfie with her shirtless man, Tristan Thompson, afterwards.  A post shared by Khloe Kardashian Snapchats❕ (@khloesnapchats) on Jul 4, 2017 at 10:31pm PDT  WATCH: Khloe Kardashian\\'s Boyfriend Tristan Thompson Surprises Her With a Family-Packed Birthday Bash: Pics!    \"After wo'\n",
            "18 'President Trump decided to go ahead and do what no other president has had the stones to do last night and launched a covert campaign to eliminate the threat of North Korean nuclear and conventional weaponry.An independent source at the Pentagon is confirming for us what the mainstream media won’t until they’ve figured out an angle to make Trump look bad: North Korea’s military is in ruins and not a single civilian was hurt.The reporter who managed to get the story told LLOD:“A cute little airma'\n",
            "19 'U.S. CA U.K. AU DE FR  E! Is Everywhere This content is available customized for our international audience. Would you like to view this in our US edition?  E! Is Everywhere This content is available customized for our international audience. Would you like to view this in our Canadian edition?  E! Is Everywhere This content is available customized for our international audience. Would you like to view this in our UK edition?  E! Is Everywhere This content is available customized for our interna'\n",
            "20 'If you always wanted to go shoe shopping with Sarah Jessica Parker (and who doesn’t?), you’re out of luck. The Sex & the City star launched a shopping excursion with Airbnb on Monday, September 25, and it already sold out in just two hours.  The $400 price tag for the “Sole in the City with SJP” experience scores you a chance to have the shoe designer help you handpick a pair of shoes from her SJP Collection at Bloomingdale’s, a post-shopping snack of fro yo and a ticket to the New York City Bal'\n"
          ]
        }
      ]
    },
    {
      "cell_type": "code",
      "source": [
        "#loading the dataset to a pandas dataframe\n",
        "news_dataset=pd.read_csv('/content/train.csv',sep='\\t',on_bad_lines=\"skip\", engine='python', encoding='utf-8')\n"
      ],
      "metadata": {
        "id": "RfOmF_4tlX-9"
      },
      "execution_count": 15,
      "outputs": []
    },
    {
      "cell_type": "code",
      "source": [
        "news_dataset.head()"
      ],
      "metadata": {
        "colab": {
          "base_uri": "https://localhost:8080/",
          "height": 206
        },
        "id": "nJTvncgGlwaW",
        "outputId": "e38ce549-fb67-461b-eef1-c36716530029"
      },
      "execution_count": 16,
      "outputs": [
        {
          "output_type": "execute_result",
          "data": {
            "text/plain": [
              "                                                text label\n",
              "0  Get the latest from TODAY Sign up for our news...     1\n",
              "1  2d  Conan On The Funeral Trump Will Be Invited...     1\n",
              "2  It’s safe to say that Instagram Stories has fa...     0\n",
              "3  Much like a certain Amazon goddess with a lass...     0\n",
              "4  At a time when the perfect outfit is just one ...     0"
            ],
            "text/html": [
              "\n",
              "  <div id=\"df-4b576b2f-7319-4ae1-9447-e5ee715816bd\" class=\"colab-df-container\">\n",
              "    <div>\n",
              "<style scoped>\n",
              "    .dataframe tbody tr th:only-of-type {\n",
              "        vertical-align: middle;\n",
              "    }\n",
              "\n",
              "    .dataframe tbody tr th {\n",
              "        vertical-align: top;\n",
              "    }\n",
              "\n",
              "    .dataframe thead th {\n",
              "        text-align: right;\n",
              "    }\n",
              "</style>\n",
              "<table border=\"1\" class=\"dataframe\">\n",
              "  <thead>\n",
              "    <tr style=\"text-align: right;\">\n",
              "      <th></th>\n",
              "      <th>text</th>\n",
              "      <th>label</th>\n",
              "    </tr>\n",
              "  </thead>\n",
              "  <tbody>\n",
              "    <tr>\n",
              "      <th>0</th>\n",
              "      <td>Get the latest from TODAY Sign up for our news...</td>\n",
              "      <td>1</td>\n",
              "    </tr>\n",
              "    <tr>\n",
              "      <th>1</th>\n",
              "      <td>2d  Conan On The Funeral Trump Will Be Invited...</td>\n",
              "      <td>1</td>\n",
              "    </tr>\n",
              "    <tr>\n",
              "      <th>2</th>\n",
              "      <td>It’s safe to say that Instagram Stories has fa...</td>\n",
              "      <td>0</td>\n",
              "    </tr>\n",
              "    <tr>\n",
              "      <th>3</th>\n",
              "      <td>Much like a certain Amazon goddess with a lass...</td>\n",
              "      <td>0</td>\n",
              "    </tr>\n",
              "    <tr>\n",
              "      <th>4</th>\n",
              "      <td>At a time when the perfect outfit is just one ...</td>\n",
              "      <td>0</td>\n",
              "    </tr>\n",
              "  </tbody>\n",
              "</table>\n",
              "</div>\n",
              "    <div class=\"colab-df-buttons\">\n",
              "\n",
              "  <div class=\"colab-df-container\">\n",
              "    <button class=\"colab-df-convert\" onclick=\"convertToInteractive('df-4b576b2f-7319-4ae1-9447-e5ee715816bd')\"\n",
              "            title=\"Convert this dataframe to an interactive table.\"\n",
              "            style=\"display:none;\">\n",
              "\n",
              "  <svg xmlns=\"http://www.w3.org/2000/svg\" height=\"24px\" viewBox=\"0 -960 960 960\">\n",
              "    <path d=\"M120-120v-720h720v720H120Zm60-500h600v-160H180v160Zm220 220h160v-160H400v160Zm0 220h160v-160H400v160ZM180-400h160v-160H180v160Zm440 0h160v-160H620v160ZM180-180h160v-160H180v160Zm440 0h160v-160H620v160Z\"/>\n",
              "  </svg>\n",
              "    </button>\n",
              "\n",
              "  <style>\n",
              "    .colab-df-container {\n",
              "      display:flex;\n",
              "      gap: 12px;\n",
              "    }\n",
              "\n",
              "    .colab-df-convert {\n",
              "      background-color: #E8F0FE;\n",
              "      border: none;\n",
              "      border-radius: 50%;\n",
              "      cursor: pointer;\n",
              "      display: none;\n",
              "      fill: #1967D2;\n",
              "      height: 32px;\n",
              "      padding: 0 0 0 0;\n",
              "      width: 32px;\n",
              "    }\n",
              "\n",
              "    .colab-df-convert:hover {\n",
              "      background-color: #E2EBFA;\n",
              "      box-shadow: 0px 1px 2px rgba(60, 64, 67, 0.3), 0px 1px 3px 1px rgba(60, 64, 67, 0.15);\n",
              "      fill: #174EA6;\n",
              "    }\n",
              "\n",
              "    .colab-df-buttons div {\n",
              "      margin-bottom: 4px;\n",
              "    }\n",
              "\n",
              "    [theme=dark] .colab-df-convert {\n",
              "      background-color: #3B4455;\n",
              "      fill: #D2E3FC;\n",
              "    }\n",
              "\n",
              "    [theme=dark] .colab-df-convert:hover {\n",
              "      background-color: #434B5C;\n",
              "      box-shadow: 0px 1px 3px 1px rgba(0, 0, 0, 0.15);\n",
              "      filter: drop-shadow(0px 1px 2px rgba(0, 0, 0, 0.3));\n",
              "      fill: #FFFFFF;\n",
              "    }\n",
              "  </style>\n",
              "\n",
              "    <script>\n",
              "      const buttonEl =\n",
              "        document.querySelector('#df-4b576b2f-7319-4ae1-9447-e5ee715816bd button.colab-df-convert');\n",
              "      buttonEl.style.display =\n",
              "        google.colab.kernel.accessAllowed ? 'block' : 'none';\n",
              "\n",
              "      async function convertToInteractive(key) {\n",
              "        const element = document.querySelector('#df-4b576b2f-7319-4ae1-9447-e5ee715816bd');\n",
              "        const dataTable =\n",
              "          await google.colab.kernel.invokeFunction('convertToInteractive',\n",
              "                                                    [key], {});\n",
              "        if (!dataTable) return;\n",
              "\n",
              "        const docLinkHtml = 'Like what you see? Visit the ' +\n",
              "          '<a target=\"_blank\" href=https://colab.research.google.com/notebooks/data_table.ipynb>data table notebook</a>'\n",
              "          + ' to learn more about interactive tables.';\n",
              "        element.innerHTML = '';\n",
              "        dataTable['output_type'] = 'display_data';\n",
              "        await google.colab.output.renderOutput(dataTable, element);\n",
              "        const docLink = document.createElement('div');\n",
              "        docLink.innerHTML = docLinkHtml;\n",
              "        element.appendChild(docLink);\n",
              "      }\n",
              "    </script>\n",
              "  </div>\n",
              "\n",
              "\n",
              "    <div id=\"df-a8054e27-b20b-46b5-92ac-d442ef1d7a68\">\n",
              "      <button class=\"colab-df-quickchart\" onclick=\"quickchart('df-a8054e27-b20b-46b5-92ac-d442ef1d7a68')\"\n",
              "                title=\"Suggest charts\"\n",
              "                style=\"display:none;\">\n",
              "\n",
              "<svg xmlns=\"http://www.w3.org/2000/svg\" height=\"24px\"viewBox=\"0 0 24 24\"\n",
              "     width=\"24px\">\n",
              "    <g>\n",
              "        <path d=\"M19 3H5c-1.1 0-2 .9-2 2v14c0 1.1.9 2 2 2h14c1.1 0 2-.9 2-2V5c0-1.1-.9-2-2-2zM9 17H7v-7h2v7zm4 0h-2V7h2v10zm4 0h-2v-4h2v4z\"/>\n",
              "    </g>\n",
              "</svg>\n",
              "      </button>\n",
              "\n",
              "<style>\n",
              "  .colab-df-quickchart {\n",
              "      --bg-color: #E8F0FE;\n",
              "      --fill-color: #1967D2;\n",
              "      --hover-bg-color: #E2EBFA;\n",
              "      --hover-fill-color: #174EA6;\n",
              "      --disabled-fill-color: #AAA;\n",
              "      --disabled-bg-color: #DDD;\n",
              "  }\n",
              "\n",
              "  [theme=dark] .colab-df-quickchart {\n",
              "      --bg-color: #3B4455;\n",
              "      --fill-color: #D2E3FC;\n",
              "      --hover-bg-color: #434B5C;\n",
              "      --hover-fill-color: #FFFFFF;\n",
              "      --disabled-bg-color: #3B4455;\n",
              "      --disabled-fill-color: #666;\n",
              "  }\n",
              "\n",
              "  .colab-df-quickchart {\n",
              "    background-color: var(--bg-color);\n",
              "    border: none;\n",
              "    border-radius: 50%;\n",
              "    cursor: pointer;\n",
              "    display: none;\n",
              "    fill: var(--fill-color);\n",
              "    height: 32px;\n",
              "    padding: 0;\n",
              "    width: 32px;\n",
              "  }\n",
              "\n",
              "  .colab-df-quickchart:hover {\n",
              "    background-color: var(--hover-bg-color);\n",
              "    box-shadow: 0 1px 2px rgba(60, 64, 67, 0.3), 0 1px 3px 1px rgba(60, 64, 67, 0.15);\n",
              "    fill: var(--button-hover-fill-color);\n",
              "  }\n",
              "\n",
              "  .colab-df-quickchart-complete:disabled,\n",
              "  .colab-df-quickchart-complete:disabled:hover {\n",
              "    background-color: var(--disabled-bg-color);\n",
              "    fill: var(--disabled-fill-color);\n",
              "    box-shadow: none;\n",
              "  }\n",
              "\n",
              "  .colab-df-spinner {\n",
              "    border: 2px solid var(--fill-color);\n",
              "    border-color: transparent;\n",
              "    border-bottom-color: var(--fill-color);\n",
              "    animation:\n",
              "      spin 1s steps(1) infinite;\n",
              "  }\n",
              "\n",
              "  @keyframes spin {\n",
              "    0% {\n",
              "      border-color: transparent;\n",
              "      border-bottom-color: var(--fill-color);\n",
              "      border-left-color: var(--fill-color);\n",
              "    }\n",
              "    20% {\n",
              "      border-color: transparent;\n",
              "      border-left-color: var(--fill-color);\n",
              "      border-top-color: var(--fill-color);\n",
              "    }\n",
              "    30% {\n",
              "      border-color: transparent;\n",
              "      border-left-color: var(--fill-color);\n",
              "      border-top-color: var(--fill-color);\n",
              "      border-right-color: var(--fill-color);\n",
              "    }\n",
              "    40% {\n",
              "      border-color: transparent;\n",
              "      border-right-color: var(--fill-color);\n",
              "      border-top-color: var(--fill-color);\n",
              "    }\n",
              "    60% {\n",
              "      border-color: transparent;\n",
              "      border-right-color: var(--fill-color);\n",
              "    }\n",
              "    80% {\n",
              "      border-color: transparent;\n",
              "      border-right-color: var(--fill-color);\n",
              "      border-bottom-color: var(--fill-color);\n",
              "    }\n",
              "    90% {\n",
              "      border-color: transparent;\n",
              "      border-bottom-color: var(--fill-color);\n",
              "    }\n",
              "  }\n",
              "</style>\n",
              "\n",
              "      <script>\n",
              "        async function quickchart(key) {\n",
              "          const quickchartButtonEl =\n",
              "            document.querySelector('#' + key + ' button');\n",
              "          quickchartButtonEl.disabled = true;  // To prevent multiple clicks.\n",
              "          quickchartButtonEl.classList.add('colab-df-spinner');\n",
              "          try {\n",
              "            const charts = await google.colab.kernel.invokeFunction(\n",
              "                'suggestCharts', [key], {});\n",
              "          } catch (error) {\n",
              "            console.error('Error during call to suggestCharts:', error);\n",
              "          }\n",
              "          quickchartButtonEl.classList.remove('colab-df-spinner');\n",
              "          quickchartButtonEl.classList.add('colab-df-quickchart-complete');\n",
              "        }\n",
              "        (() => {\n",
              "          let quickchartButtonEl =\n",
              "            document.querySelector('#df-a8054e27-b20b-46b5-92ac-d442ef1d7a68 button');\n",
              "          quickchartButtonEl.style.display =\n",
              "            google.colab.kernel.accessAllowed ? 'block' : 'none';\n",
              "        })();\n",
              "      </script>\n",
              "    </div>\n",
              "\n",
              "    </div>\n",
              "  </div>\n"
            ],
            "application/vnd.google.colaboratory.intrinsic+json": {
              "type": "dataframe",
              "variable_name": "news_dataset",
              "summary": "{\n  \"name\": \"news_dataset\",\n  \"rows\": 4923,\n  \"fields\": [\n    {\n      \"column\": \"text\",\n      \"properties\": {\n        \"dtype\": \"string\",\n        \"num_unique_values\": 4673,\n        \"samples\": [\n          \"WASHINGTON, D.C.\\u2014Still reeling from Trump\\u2019s previous Supreme Court nominee, Neil Gorsuch, Democrats plan to scrutinize any new nominee to ensure that he or she isn\\u2019t yet another crony of something called \\u201cThe Constitution,\\u201d Senate Democrats announced Friday.\\u201cTime and time again, we find progressive laws getting struck down,\\u201d Senate Minority Leader Chuck Schumer said in a Senate address. \\u201cAnd it\\u2019s always \\u2014 always \\u2014 the ones the Constitution is against. These right-wing judges don\\u2019t think for themselves, they just do whatever the Constitution says. And it\\u2019s time for that to end.\\u201dSenate Democrats have vowed to make sure that any new nominee isn\\u2019t going to be beholden to outside influences like the Constitution, the founding fathers, or the rule of law. \\u201cWe need judges to be advocates of progressive laws,\\u201d Senator Elizabeth Warren added. \\u201cNot people who will bow to the whims of the Constitution, pitting its extremist values of freedom of speech and freedom of religion against our agenda.\\u201d\\u201cWe\\u2019re sick and tired of the Constitution sitting in the National Archives, manipulating everything we do,\\u201d stated Senator Cory Booker, trying to emote for the cameras but failing. Booker then called a ten-minute recess for him to refresh his supply of fake tears before he could continue.Asked about their concerns, Senate Majority Leader Mitch McConnell said he \\u201cdoesn\\u2019t care\\u201d and plans to \\u201ccompletely ignore\\u201d the Democrats in the nomination process since \\u201cthere\\u2019s nothing they can do\\u201d and he is \\u201cliterally unstoppable.\\u201d\",\n          \"Oprah's Favorite Things is one of the most famous and fabulous gift guides around every holiday season. So if you're a close friend of Oprah Winfrey's, you're basically guaranteed to have the best. Holiday. Ever.  Oprah's famous bestie Gayle King must know that all too well. We imagine that their gift exchanges are nothing less than epic every year.  So when Gayle was asked to name her favorite favorite thing that Oprah has ever gifted her during Tuesday night's episode of Watch What Happens Live with Andy Cohen, you better believe we were all ears. Press play on the above video to find out the gift that Gayle will never forget, and you won't either after hearing this story.  Watch Gayle spill on her favorite Bravo things, below.\",\n          \"Speaking in Cleveland, Ohio, Democratic presidential candidate Hillary Clinton called for unity in the wake of the tragic shooting in Orlando. Here are key moments from that speech. (Reuters/Associated Press)Hillary Clinton delivered an address pledging that as president she would take on \\\"lone wolves\\\" who might carry out terrorist attacks in the United States and calling for unity in light of the massacre at a gay nightclub in Orlando on Sunday. The compete transcript of her remarks in Cleveland are posted below.SPEAKER: FORMER SECRETARY OF STATE HILLARY RODHAM CLINTON, DEMOCRATIC PRESIDENTIAL CANDIDATECLINTON: Thank you. (APPLAUSE)Thank you all very much.(APPLAUSE)Thank you. Thank you all.(APPLAUSE)Thank you. Thank you. I am -- I'm absolutely -- I'm absolutely delighted to be back in Cleveland and to be here at the Industrial Innovation Center. I've had a chance to learn about the great work you do here. I especially want to applaud Team Wendy for everything you do to protect our troops, first responders.(APPLAUSE)And others from traumatic brain injury. It is so important that we continue to support those who protect us.AUDIENCE: We want Hillary!CLINTON: Thank you.AUDIENCE: We want Hillary!CLINTON: Thank you all.AUDIENCE: We want Hillary!(APPLAUSE)CLINTON: It is good to be back in Cleveland, I can tell you that.(APPLAUSE)I want to thank -- I wan to thank your extraordinary senator, Sherrod Brown, for his leadership, for that very kind and generous introduction. You are very fortunate to -- to have him representing you. I want to thank your congresswoman, Marcia Fudge...(APPLAUSE)Who is both indomitable and indefatigable. She is such a tenacious advocate for the people she represents. I want to acknowledge the mayor, Mayor Jackson, who was here, County Executive Budish (ph). And I particularly want to recognize the passing of George Voinovich, and he devoted his life to serving the people of Ohio as mayor of Cleveland, as governor and senator. And we send our prayers and sympathy to his family.I also want to thank Dan Moore, the owner and founder of this company and Team Wendy for his belief in Cleveland, for his commitment to create jobs. I can't wait to work with him to do more of what he has accomplished here.(APPLAUSE)You know, originally, I had intended to come to Cleveland under very different circumstances. We are heading into a general election that could be the most consequential of our lifetimes. But today is not a day for politics.On Sunday, Americans woke up to a nightmare that's become mind numbingly familiar. Another act of terrorism in a place no one expected. A madman filled with hate, with guns in his hands, and just a horrible sense of vengeance and vindictiveness in his heart, apparently consumed by rage against LGBT Americans, and by extension, the openness and diversity that defines our American way of life.We will learn more about the killer in the days to come. We know that he pledged allegiance to ISIS, that they are now taking credit and that part of their strategy is to radicalize individuals and encourage attacks against the United States, even if they are not coordinated with ISIS leadership. But there's a lot we still don't know, including what other mix of motives drove him to kill.The more we learn about what happened, the better we'll be able to protect our people going forward. In the days ahead, we will also learn more about the many lives he viciously cut short, many of them young people, just starting out in their lives. They were travel agents and pharmacy techs, college students and amusement park workers, sons and daughters, brothers and sisters, and they had one thing in common. They all had a lot more to give.CLINTON: We should take a moment today amid our busy lives to think about them, to pray for everyone who was killed, for the wounded, those who are fighting to regain their lives and futures, for our first responders who walked into danger one more time. As a mother, I can't imagine what those families are going through.But let's also remember the other scenes we saw on Sunday. We saw the faces of some of those first responders who rushed into danger and tried to save as many people as they could. We saw survivors like Chris Hansen who risked their lives to help others.People gathering outside hospitals to comfort anxious family members, waiting for news of their loved ones and waiting, too, to learn more about what they could do to make sure this never happened again.Religion leaders condemning hate and appealing for peace. People lining up to donate blood. Americans refusing to be intimidated or divided.Yesterday I called Mayor Dyer of Orlando and offered my support and my appreciation for the leadership that he and the other officials have shown. This is a moment when all Americans need to stand together.No matter how many times we endure attacks like this, the horror never fades. The murder of innocent people breaks our hearts, tears at our sense of security and makes us furious.Now we have to steal our resolve to respond. And that's what I want to talk to you about. How we respond.The Orlando terrorist may be dead, but the virus that poisoned his mind remains very much alive. And we must attack it with clear eyes, steady hands, unwavering determination and pride in our country and our values.(APPLAUSE)I have no doubt -- I have no doubt we can meet this challenge if we meet it together. Whatever we learn about this killer, his motives in the days ahead, we know already the barbarity that we face from radical jihadists is profound.In the Middle East, ISIS is attempting a genocide of religious and ethnic minorities. They are slaughtering Muslims who refuse to accept their medieval ways. They are beheading civilians, including executing LGBT people. They are murdering Americans and Europeans, enslaving, torturing and raping women and girls.In speeches like this one, after Paris, Brussels and San Bernardino, I have laid out a plan to defeat ISIS and the other radical jihadist groups in the region and beyond.The attack in Orlando makes it even more clear, we cannot contain this threat. We must defeat it. And the good news is that the coalition effort in Syria and Iraq has made recent gains in the last months.So we should keep the pressure on ramping up the air campaign, accelerating support for our friends fighting to take and hold ground and pushing our partners in the region to do even more.We also need continued American leadership to help resolve the political conflicts that fuel ISIS recruitment efforts.But as ISIS loses actual ground in Iraq and Syria, it will seek to stage more attacks and gain stronger footholds wherever it can, from Afghanistan, to Libya, to Europe.The threat is metastasizing. We saw this in Paris. And we saw it in Brussels. We face a twisted ideology and poisoned psychology that inspires the so-called lone wolves, radicalized individuals who may or may not have contact and direction from any formal organization.CLINTON: So, yes, efforts to defeat ISIS on the battlefield must succeed. But it will take more than that.(APPLAUSE)We have to be just as adaptable and versatile as our enemies. As president, I will make identifying and stopping lone wolves a top priority.(APPLAUSE)I will put a team together from across our government, the entire government, as well as the private sector and communities to get on top of this urgent challenge. And I will make sure our law enforcement and intelligence professionals have all the resources they need to get the job done.As we do this, there are three areas that demand attention. First, we and our allies must work hand-in-hand to dismantle the networks that move money, and propaganda, and arms and fighters around the world.(APPLAUSE)We have to flow -- we have to stem the flow of jihadists from Europe and Iraq, Syria, Afghanistan and then back again. The only way to do this is by working closely with our partners, strengthening our alliances, not weakening them or walking away from them.Second, here at home, we must harden our own defenses. We have to do more to support our first responders, law enforcement and intelligence officers who do incredible work every day at great personal risk to keep our country safe.(APPLAUSE)I have seen firsthand how hard their job is, and how well they do it.In Orlando, at least one police officer was shot in the head. Thankfully, his life was saved by a Kevlar helmet, something folks here at Team Wendy know a lot about.(APPLAUSE)It has often been said that our law enforcement, our intelligence agencies, our first responders have to be right 100 percent of the time, but terrorists only have to be right once.What a heavy responsibility. These men and women deserve both our respect and gratitude. And they deserve the right tools, and resources and training. Too often, state and local officials can't get access to intelligence from the federal government that would help them do their jobs.We need to change that. We also need to work...(APPLAUSE)We also need to work with local law enforcement and business owners on ways to protect vulnerable, so-called soft targets, like nightclubs and shopping malls and hotels and movie theaters and schools and houses of worship.Now, I know a lot of Americans are asking how it was possible that someone already on the FBI's radar could have still been able to commit an attack like the one in Orlando, and what more we can do to stop this kind of thing from happening again.Well, we have to see what the investigation uncovers. If there are things that can and should be done to improve our ability to prevent, we must do them. We already know we need more resources for this fight. The professionals who keep us safe would be the first to say we need better intelligence to discover and disrupt terrorist plots before they can be carried out.That's why I have proposed an intelligence surge to bolster our capabilities across the board with appropriate safeguards here at home.Even as we make sure our security officials get the tools they need to prevent attacks, it's essential that we stop terrorists from getting the tools they need to carry out the attack.(APPLAUSE)CLINTON: And that is especially true when it comes to assault weapons like those used in Orlando and San Bernardino.(APPLAUSE)I believe weapons of war have no place on our streets and we may have our disagreements about gun safety regulations, but we should all be able to agree on a few essential things.If the FBI is watching you for a suspected terrorist link, you shouldn't be able to just go buy a gun with no questions asked.And you shouldn't be able to exploit loopholes and evade criminal background checks by buying online or at a gun show.And yes, if you're too dangerous to get on a plane, you are too dangerous to buy a gun in America.Now, I know some will say that assault weapons and background checks are totally separate issues having nothing to do with terrorism. Well, in Orlando and San Bernardino terrorists used assault weapons, the AR-15. And they used it to kill Americans. That was the same assault weapon used to kill those little children in Sandy Hook.We have to make it harder for people who should not have those weapons of war. And that may not stop every shooting or every terrorist attack, but it will stop some and it will save lives and it will protect our first responders.And I want you to know, I'm not going to stop fighting for these kinds of provisions.Now, the third area that demands attention is preventing radicalization and countering efforts by ISIS and other international terrorist networks to recruit in the United States and Europe.For starters, it is long past time for the Saudis, the Qataris and the Kuwaitis and others to stop their citizens from funding extremist organizations. And they should stop supporting radical schools and mosques around the world that have set too many young people on a path towards extremism.We also have to use all our capabilities to counter jihadist propaganda online. This is something that I spend a lot of time on at the State Department.As president, I will work with our great tech companies from Silicon Valley to Boston to step up our game. We have to a better job intercepting ISIS' communications, tracking and analyzing social media posts and mapping jihadist networks, as well as promoting credible voices who can provide alternatives to radicalization.And there is more to do offline as well.CLINTON: Since 9/11, law enforcement agencies have worked hard to build relationships with Muslim American communities. Millions of peace-loving Muslims live, work and raise their families across America. And they are the most likely to recognize the insidious effects of radicalization before it's too late, and the best positioned to help us block it. So we should be intensifying contacts in those communities, not scapegoating or isolating them.(APPLAUSE)Last year, I visited a pilot program in Minneapolis that helps parents, teachers, imams, mental health professionals and others recognize signs of radicalization in young people and work with law enforcement to intervene before it's too late.I've also met with local leaders pursuing innovative approaches in Los Angeles and other places. And we need more efforts like that in more cities across America. And as the director of the FBI has pointed out, we should avoid eroding trust in that community, which will only make law enforcement's job more difficult.Inflammatory anti-Muslim rhetoric and threatening to ban the families and friends of Muslim Americans as well as millions of Muslim business people and tourists from entering our country hurts the vast majority of Muslims who love freedom and hate terror.(APPLAUSE)So does saying that we have to start special surveillance on our fellow Americans because of their religion. It's no coincidence that hate crimes against American Muslims and mosques have tripled after Paris and San Bernardino. That's wrong. And it's also dangerous. It plays right into the terrorists' hands.Still, as I have said before, none of us can close our eyes to the fact that we do face enemies who use their distorted version of Islam to justify slaughtering $ innocent people. They'd take us all back to the Stone Age if they could, just as they have in parts of Iraq and Syria.The terrorist in Orlando targeted LGBT Americans out of hatred and bigotry. And an attack on any American is an attack on all Americans.(APPLAUSE) And I want to say this to all the LGBT people grieving today in Florida and across our country. You have millions of allies who will always have your back.(APPLAUSE)And I am one of them.(APPLAUSE)From Stonewall to Laramie, and now Orlando, we've seen too many examples of how the struggle to live freely, openly and without fear has been met by violence. We have to stand together, be proud together. There is no better rebuke to the terrorists and all those who hate.Our open, diverse society is an asset in the struggle against terrorism, not a liability. It makes us stronger and more resistant to radicalization. And this raises a larger point about the future of our country.America is strongest when we all believe that we have a stake in our country and our future.CLINTON: This vision has sustained us from the beginning. The belief that, yes, we are all created equal and the journey we have made to turn that into reality over the course of our history, that we are not a land of winners and losers, that we should all have the opportunity to live up to our God-given potential. And we have a responsibility to help others do so as well.(APPLAUSE)As I look at American history, I see that this has always been a country of \\\"we\\\" not \\\"me.\\\" We stand together because we are stronger together. E pluribus unum. One -- out of many, one -- has seen us through the darkest chapters of our history. Ever since 13 squabbling colonies put aside their disagreements and united because they realized they were going to rise together or fall separately, generation after generation has fought and marched and organized to widen the circle of dignity and opportunity. Ending slavery. Securing and expanding the right to vote. Throwing open the doors of education. Building the greatest middle class the world has ever seen.And we are stronger when more people can participate in our democracy.(APPLAUSE)And we are stronger when everyone can share in the rewards of our economy and contribute to our communities, when we bridge our divides and lift each other up instead of tearing each other down. Now we have overcome a lot together and we will overcome the threats of terror and radicalization and all of our other challenges. Here in Ohio and across America, I've listened to people talk about the problems that keep you up at night.The bonds that hold us together as communities, as one national community, are strained by an economy with too much inequality and too little upward mobility. By social and political divisions that have diminished our trust in each other and our confidence in our shared future. I have heard that, and I want you to know as your president I will work every day to break down all the barriers holding you back and keeping us apart. We're gonna get an economy that works for everyone, not just those at the top, we're gonna forge a new sense of connection and shared responsibility to each other and our nation.And finally,(APPLAUSE) finally let me remind us all, I remember, I remember how it felt, on the day after 9/11, and I bet many of you do as well. Americans from all walks of life rallied together with a sense of common purpose on September the 12th and in the days and weeks and months that followed. We had each others' backs. I was a senator from New York. There was a Republican president, a Republican governor, and a Republican mayor. We did not attack each other. We worked with each other to protect our country and to rebuild our city (ph).(APPLAUSE)President Bush went to a Muslim community center just six days after the attacks to send a message of unity and solidarity. To anyone who wanted to take out their anger on our Muslim neighbors and fellow citizens, he said, \\\"That should not, and that will not, stand in America.\\\" It is time to get back to the spirit of those days, spirit of 9/12. Let's make sure we keep looking to the best of our country, to the best within each of us. Democratic and Republican presidents have risen to the occasion in the face of tragedy. That is what we are called to do my friends and I am so confident and optimistic that is exactly what we will do.Thank you all so much.\"\n        ],\n        \"semantic_type\": \"\",\n        \"description\": \"\"\n      }\n    },\n    {\n      \"column\": \"label\",\n      \"properties\": {\n        \"dtype\": \"category\",\n        \"num_unique_values\": 3,\n        \"samples\": [\n          \"1\",\n          \"0\",\n          \"label\"\n        ],\n        \"semantic_type\": \"\",\n        \"description\": \"\"\n      }\n    }\n  ]\n}"
            }
          },
          "metadata": {},
          "execution_count": 16
        }
      ]
    },
    {
      "cell_type": "code",
      "source": [
        "news_dataset.shape"
      ],
      "metadata": {
        "colab": {
          "base_uri": "https://localhost:8080/"
        },
        "id": "xGHSjlwXnONQ",
        "outputId": "b95b5ea0-fd38-4882-c7c8-38f345d49ada"
      },
      "execution_count": 17,
      "outputs": [
        {
          "output_type": "execute_result",
          "data": {
            "text/plain": [
              "(4923, 2)"
            ]
          },
          "metadata": {},
          "execution_count": 17
        }
      ]
    },
    {
      "cell_type": "code",
      "source": [
        "#counting the number of missing values in the datasset\n",
        "news_dataset.isnull().sum()"
      ],
      "metadata": {
        "colab": {
          "base_uri": "https://localhost:8080/",
          "height": 147
        },
        "id": "R6syQwOgnQsj",
        "outputId": "4c567f56-6d82-4ab2-886e-d58829001921"
      },
      "execution_count": 18,
      "outputs": [
        {
          "output_type": "execute_result",
          "data": {
            "text/plain": [
              "text     0\n",
              "label    0\n",
              "dtype: int64"
            ],
            "text/html": [
              "<div>\n",
              "<style scoped>\n",
              "    .dataframe tbody tr th:only-of-type {\n",
              "        vertical-align: middle;\n",
              "    }\n",
              "\n",
              "    .dataframe tbody tr th {\n",
              "        vertical-align: top;\n",
              "    }\n",
              "\n",
              "    .dataframe thead th {\n",
              "        text-align: right;\n",
              "    }\n",
              "</style>\n",
              "<table border=\"1\" class=\"dataframe\">\n",
              "  <thead>\n",
              "    <tr style=\"text-align: right;\">\n",
              "      <th></th>\n",
              "      <th>0</th>\n",
              "    </tr>\n",
              "  </thead>\n",
              "  <tbody>\n",
              "    <tr>\n",
              "      <th>text</th>\n",
              "      <td>0</td>\n",
              "    </tr>\n",
              "    <tr>\n",
              "      <th>label</th>\n",
              "      <td>0</td>\n",
              "    </tr>\n",
              "  </tbody>\n",
              "</table>\n",
              "</div><br><label><b>dtype:</b> int64</label>"
            ]
          },
          "metadata": {},
          "execution_count": 18
        }
      ]
    },
    {
      "cell_type": "code",
      "source": [
        "#seperating the data and label\n",
        "X=news_dataset.drop(columns='label',axis=1)\n",
        "Y=news_dataset[\"label\"]\n",
        "print(X)\n",
        "print(Y)"
      ],
      "metadata": {
        "colab": {
          "base_uri": "https://localhost:8080/"
        },
        "id": "XZhR8XNBniJ5",
        "outputId": "41180782-23ea-46d6-85ae-4f786345e444"
      },
      "execution_count": 19,
      "outputs": [
        {
          "output_type": "stream",
          "name": "stdout",
          "text": [
            "                                                   text\n",
            "0     Get the latest from TODAY Sign up for our news...\n",
            "1     2d  Conan On The Funeral Trump Will Be Invited...\n",
            "2     It’s safe to say that Instagram Stories has fa...\n",
            "3     Much like a certain Amazon goddess with a lass...\n",
            "4     At a time when the perfect outfit is just one ...\n",
            "...                                                 ...\n",
            "4918  The storybook romance of WWE stars John Cena a...\n",
            "4919  The actor told friends he’s responsible for en...\n",
            "4920  Sarah Hyland is getting real.  The Modern Fami...\n",
            "4921  Production has been suspended on the sixth and...\n",
            "4922  A jury ruled against Bill Cosby in his sexual ...\n",
            "\n",
            "[4923 rows x 1 columns]\n",
            "0       1\n",
            "1       1\n",
            "2       0\n",
            "3       0\n",
            "4       0\n",
            "       ..\n",
            "4918    0\n",
            "4919    0\n",
            "4920    0\n",
            "4921    0\n",
            "4922    0\n",
            "Name: label, Length: 4923, dtype: object\n"
          ]
        }
      ]
    },
    {
      "cell_type": "markdown",
      "source": [
        "Stemming:\n",
        "stemming is a process of reducing a word to its root word"
      ],
      "metadata": {
        "id": "tHMvXDxUoRMj"
      }
    },
    {
      "cell_type": "code",
      "source": [
        "port_stem=PorterStemmer()"
      ],
      "metadata": {
        "id": "4CW4mg3IoJpy"
      },
      "execution_count": 20,
      "outputs": []
    },
    {
      "cell_type": "code",
      "source": [
        "def stemming(text):\n",
        "  stemmed_text=re.sub('[^a-zA-Z]',' ',text)\n",
        "  stemmed_text=stemmed_text.lower()\n",
        "  stemmed_text=stemmed_text.split()\n",
        "  stemmed_text=[port_stem.stem(word) for word in stemmed_text if not word in stopwords.words('english')]\n",
        "  stemmed_text=' '.join(stemmed_text)\n",
        "  return stemmed_text\n"
      ],
      "metadata": {
        "id": "VNLIU7gvowYW"
      },
      "execution_count": 21,
      "outputs": []
    },
    {
      "cell_type": "code",
      "source": [
        "news_dataset['text']=news_dataset['text'].apply(stemming)"
      ],
      "metadata": {
        "id": "5XsXdOysRvrh"
      },
      "execution_count": 22,
      "outputs": []
    },
    {
      "cell_type": "code",
      "source": [
        "print(news_dataset['text'])"
      ],
      "metadata": {
        "colab": {
          "base_uri": "https://localhost:8080/"
        },
        "id": "ZFCgIaJ-R-w9",
        "outputId": "1ff7f7e6-a0cb-43d8-96dd-64aecebadada"
      },
      "execution_count": 23,
      "outputs": [
        {
          "output_type": "stream",
          "name": "stdout",
          "text": [
            "0       get latest today sign newslett one ever truli ...\n",
            "1                        conan funer trump invit conan tb\n",
            "2       safe say instagram stori far surpass competito...\n",
            "3       much like certain amazon goddess lasso height ...\n",
            "4       time perfect outfit one click away high demand...\n",
            "                              ...                        \n",
            "4918    storybook romanc wwe star john cena nikki bell...\n",
            "4919    actor told friend respons encourag brad reigni...\n",
            "4920    sarah hyland get real modern famili star took ...\n",
            "4921    product suspend sixth final season netflix hou...\n",
            "4922    juri rule bill cosbi sexual assault retrial th...\n",
            "Name: text, Length: 4923, dtype: object\n"
          ]
        }
      ]
    },
    {
      "cell_type": "code",
      "source": [
        "#seperating the data and label\n",
        "X=news_dataset['text'].values\n",
        "Y=news_dataset['label'].values"
      ],
      "metadata": {
        "id": "zB7idJ6iTqRg"
      },
      "execution_count": 24,
      "outputs": []
    },
    {
      "cell_type": "code",
      "source": [
        "print(X)"
      ],
      "metadata": {
        "colab": {
          "base_uri": "https://localhost:8080/"
        },
        "id": "zEbWd2rZT-pO",
        "outputId": "96dc4e23-689d-4354-b055-734bf4770d1a"
      },
      "execution_count": 25,
      "outputs": [
        {
          "output_type": "stream",
          "name": "stdout",
          "text": [
            "['get latest today sign newslett one ever truli get lose love one blake shelton except older brother richi die nov shelton note tweet monday chang life forev richi die car accid shelton home state oklahoma two year ago shelton sent messag th anniversari loss richi blake half brother share mother passeng car collid school bu ada south oklahoma citi richi driver redena mcmanu year old boy christoph mcmanu die shortli collis bu driver passeng uninjur accord polic report accid clearli remain blake told minut rememb pick phone call week dead tell someth pick phone call tell someth saw tv like constantli shock dead blake shelton play today halloween extravaganza new york citi oct getti imag blake wife miranda lambert wrote singl call inspir richi still two brother bond despit age differ share love countri music bedroom right across hallway mine littl blake said interview listen hank william jr waylon lynyrd skynyrd bob seeger whatev popular realli richi love music would sit go man guy hero coolest guy big brother follow rande dawn twitter'\n",
            " 'conan funer trump invit conan tb'\n",
            " 'safe say instagram stori far surpass competitor snapchat popular sinc incept two year ago favorit celebr hop social media trend unlik highli curat photo feed instagram stori celebr seem comfort enough raw open need someth wait line short break take peek celebr instagram stori surprisingli engag entertain busi philipp busyphilipp fantast stori teller busi dub new yorker breakout star instagram stori captur everyth morn workout paparazzi run in everyth busi stori assum happen mandi moor mandymooremm follow mandi moor mani us behind scene stori worth alon also instastori home built decor mount kilimanjaro climb prepar behind hollywood red carpet event recent attend chrissi teigen chrissyteigen follow love twitter snapchat watch instagram stori humor cook ador daughter luna rees witherspoon reesewitherspoon rees may one biggest star world earth breath fresh air instagram stori sarah hyland sarahhyland somehow modern famili star make eat dinner solo watch bachelor interest enough keep watch candac cameron bure candacecbur soft spot candac sinc grow full hous live resurg career follow candac instagram stori fashion famili workout behind scene movi tv set eva chen evachen though may bias use platform sinc becom director fashion partnership instagram still one watch eva chronicl daili life earli morn ador kid intern fashion week event jessica alba jessicaalba new mama three ador show juggl home work life prepar back tv sure behind scene sneak peek kristin cavallari kristincavallari realiti tv cookbook author fashion design kristin share recip open first brick mortar fashion home design line uncommon jame spencer pratt spencerpratt hear hill alum may villain bad rap minut fame instagram stori highlight famili life month old son gunner wife heidi mani obsess includ hummingbird work coffe taylor swift'\n",
            " ...\n",
            " 'sarah hyland get real modern famili star took instagram late thursday night share candid photo hospit gown honor nation selfi day sometim selfi good angl feelin cute time nationalselfieday decid share truth pain caption shock imag face torn work grate health alway come first hyland ad stayhealthymyfriend share video hour hospit dog lick face taken past sunday day hospit liter tell get treatment hyland wrote wait come back preciou angel princess perfect know exactli need time instagram instagram hyland reveal caus hospit sourc tell et hospit better previous open health struggl social media march tweet chronic ill chronic pain experi doctor listen tear head bare hand year old actress diagnos kidney dysplasia child receiv kidney transplant hyland spoke et health year women march lo angel boyfriend well adam side support hear say video et reach hyland rep comment relat content sarah hyland say doctor listen complaint chronic pain sarah hyland reveal work boyfriend well adam person exclus well adam celebr girlfriend sarah hyland birthday incred bachelor style date relat galleri'\n",
            " 'product suspend sixth final season netflix hous card amid kevin spacey sexual assault scandal deadlin report netflix produc media right capit told mrc netflix decid suspend product hous card season six notic give us time review current situat address concern cast crew come monday news show would end next year sixth season actor anthoni rapp accus spacey sexual assault year old product sixth season alreadi begun prior anoth statement yesterday spacey alleg two compani said media right capit netflix deepli troubl last night news concern kevin spacey hous card consid one biggest moment career spacey robin wright also increas visibl mahershala ali mainstream entertain netflix first major origin seri product set stage know game chang stream giant hollywood seen floodgat accus victim come forward speak stori harvey weinstein debacl'\n",
            " 'juri rule bill cosbi sexual assault retrial thursday find guilti aggrav indec assault three count brought andrea constand entertain face possibl spend rest life prison cosbi show visibl reaction verdict react loudli district attorney kevin steel call entertain bail revok say cosbi plane could flee plane hole man known america dad shout provok gasp hush courtroom neill admonish entertain revok bail cosbi found guilti three count aggrav indec assault count carri maximum penalti year prison sentenc expect later year could forum women said sexual assault cosbi cosbi charg drug molest andrea constand oper manag women basketbal team templ univers home outsid philadelphia back januari cosbi contend sexual contact consensu relat gretchen carlson roger ail lawsuit affect cosbi case kevin spacey face feloni sexual assault charg post bizarr video juri announc deliv hush courtroom p mark stun end first celebr trial heat atmospher metoo movement panel seven men five women includ two african american began deliber case wednesday morn announc verdict th day retrial news confer later steel said constand come forward accus major factor metoo movement said hope verdict would help embolden victim sexual assault hope case send strong messag victim type crime come forward heard said steel constand stood quietli feet away steel said cosbi potenti face year prison declin say type sentenc would seek suggest would seek substanti fine note cosbi legal team describ civil settlement nearli million cosbi paid lawsuit brought constand paltri sum cosbi accus sexual assault dozen women past year constand alleg one becam subject crimin case charg cosbi file dec day year statut limit due expir trial drew number cosbi accus courthous one broke tear left courtroom juri forewoman disclos guilti verdict charg first brought trial last june juri end deadlock charg hour deliber year old entertain accus constand former oper manag women basketbal team templ univers drug molest januari constand said becam close cosbi major support univers view mentor alleg abus trust howev invit home montgomeri counti offer three blue pill help relax testifi took pill trust cosbi believ kind herbal relax soon becam incapacit said felt finger insid fight late wednesday juror ask read cosbi deposit civil lawsuit brought constand receiv settlement nearli million deposit cosbi describ move put constand night question cosbi also acknowledg mani year use give quaalud women want sex cosbi left courtroom without comment defens team noth say way court lead defens attorney thoma mesereau success defend michael jackson child molest charg team mount strong defens behalf entertain rever entertain major celebr face juri amid grow cultur awar problem sexual assault less year dozen rich power men accus sexual harass assault women decid publicli address issu constand public reaction verdict lawyer dolor troiani thank team law enforc offic prosecutor take power man said constand first file complaint cosbi year ago taken time obtain justic although justic delay deni said troiani said taken constand long time deal happen someth work everi day sinc januari said troiani life alter experi victim lawyer gloria allr repres number women say cosbi sexual assault said verdict victori victim said done women final believ said allr follow guilti verdict network bounc tv announc pull rerun cosbi show schedul popular video varieti com']\n"
          ]
        }
      ]
    },
    {
      "cell_type": "code",
      "source": [
        "print(Y)"
      ],
      "metadata": {
        "colab": {
          "base_uri": "https://localhost:8080/"
        },
        "id": "7MX_fgBAT_w0",
        "outputId": "004758e3-62e4-4c06-e819-2e140f70e908"
      },
      "execution_count": 26,
      "outputs": [
        {
          "output_type": "stream",
          "name": "stdout",
          "text": [
            "['1' '1' '0' ... '0' '0' '0']\n"
          ]
        }
      ]
    },
    {
      "cell_type": "code",
      "source": [
        "#converting the textual data into numerical data\n",
        "vectorizer=TfidfVectorizer()\n",
        "vectorizer.fit(X)\n",
        "\n",
        "X=vectorizer.transform(X)"
      ],
      "metadata": {
        "id": "bqIeYD9lUBb2"
      },
      "execution_count": 27,
      "outputs": []
    },
    {
      "cell_type": "code",
      "source": [
        "print(X)"
      ],
      "metadata": {
        "colab": {
          "base_uri": "https://localhost:8080/"
        },
        "id": "IEnyAjmpUhQZ",
        "outputId": "986c7353-fb55-4758-892f-85104ab45d3c"
      },
      "execution_count": 28,
      "outputs": [
        {
          "output_type": "stream",
          "name": "stdout",
          "text": [
            "<Compressed Sparse Row sparse matrix of dtype 'float64'\n",
            "\twith 941099 stored elements and shape (4923, 42539)>\n",
            "  Coords\tValues\n",
            "  (0, 171)\t0.12494765923889722\n",
            "  (0, 183)\t0.03127269919847014\n",
            "  (0, 253)\t0.04847583923509015\n",
            "  (0, 276)\t0.0920822342378783\n",
            "  (0, 520)\t0.042201484082939805\n",
            "  (0, 552)\t0.041878966418217804\n",
            "  (0, 1402)\t0.0569020028697862\n",
            "  (0, 3086)\t0.06573138244138836\n",
            "  (0, 3587)\t0.03445479698534219\n",
            "  (0, 3817)\t0.35691460806983283\n",
            "  (0, 4024)\t0.06165980053862364\n",
            "  (0, 4144)\t0.05729842705359366\n",
            "  (0, 4376)\t0.04406216415727539\n",
            "  (0, 4823)\t0.1737576506790321\n",
            "  (0, 4904)\t0.14062122162146964\n",
            "  (0, 5381)\t0.08637318103765103\n",
            "  (0, 5612)\t0.09811887783328178\n",
            "  (0, 6243)\t0.036795968744863065\n",
            "  (0, 6727)\t0.06177300702669815\n",
            "  (0, 6872)\t0.08032076339585868\n",
            "  (0, 6995)\t0.051803457419479816\n",
            "  (0, 7316)\t0.0864396150648863\n",
            "  (0, 7319)\t0.08806198729525\n",
            "  (0, 7682)\t0.06154757420560213\n",
            "  (0, 7794)\t0.0864396150648863\n",
            "  :\t:\n",
            "  (4922, 37779)\t0.013380265914774718\n",
            "  (4922, 38042)\t0.01123489291027521\n",
            "  (4922, 38388)\t0.06029106379766561\n",
            "  (4922, 38473)\t0.11383064933368608\n",
            "  (4922, 38560)\t0.035353446083536716\n",
            "  (4922, 38737)\t0.01246535328734518\n",
            "  (4922, 38817)\t0.008273260367610254\n",
            "  (4922, 38854)\t0.036387658558377334\n",
            "  (4922, 39335)\t0.04623174035873505\n",
            "  (4922, 39667)\t0.011156966268093352\n",
            "  (4922, 39876)\t0.01837333417429805\n",
            "  (4922, 40009)\t0.19470510262850352\n",
            "  (4922, 40131)\t0.06810665811517708\n",
            "  (4922, 40140)\t0.021594502376636883\n",
            "  (4922, 40153)\t0.02112930668488881\n",
            "  (4922, 40174)\t0.015263397802301295\n",
            "  (4922, 40280)\t0.02205372318455683\n",
            "  (4922, 40638)\t0.008487159519529256\n",
            "  (4922, 40778)\t0.00950878979343814\n",
            "  (4922, 40862)\t0.03000844449859761\n",
            "  (4922, 41441)\t0.01300333033123071\n",
            "  (4922, 41548)\t0.11346458943728722\n",
            "  (4922, 41617)\t0.009233900794856333\n",
            "  (4922, 41671)\t0.026078471445100438\n",
            "  (4922, 42011)\t0.05801584987317579\n"
          ]
        }
      ]
    },
    {
      "cell_type": "code",
      "source": [
        "X_train,X_test,Y_train,Y_test=train_test_split(X,Y,test_size=0.2,random_state=2)"
      ],
      "metadata": {
        "id": "BEFLzkBvUjrA"
      },
      "execution_count": 33,
      "outputs": []
    },
    {
      "cell_type": "code",
      "source": [
        "print(X_train)\n",
        "print(Y_train)\n",
        "print(Y_test)"
      ],
      "metadata": {
        "colab": {
          "base_uri": "https://localhost:8080/"
        },
        "id": "aLCHwMQZVhaz",
        "outputId": "2b16fd32-2bb7-4206-96f9-cba68bdd4990"
      },
      "execution_count": 34,
      "outputs": [
        {
          "output_type": "stream",
          "name": "stdout",
          "text": [
            "<Compressed Sparse Row sparse matrix of dtype 'float64'\n",
            "\twith 757555 stored elements and shape (3938, 42539)>\n",
            "  Coords\tValues\n",
            "  (0, 183)\t0.020798354207228024\n",
            "  (0, 275)\t0.020914165897311515\n",
            "  (0, 651)\t0.043923327926448825\n",
            "  (0, 796)\t0.044354447909435483\n",
            "  (0, 983)\t0.014599451884613774\n",
            "  (0, 1308)\t0.02595795425963519\n",
            "  (0, 1405)\t0.022108074440748218\n",
            "  (0, 2123)\t0.034846985799174605\n",
            "  (0, 2407)\t0.0254870441139362\n",
            "  (0, 2449)\t0.017465087579507498\n",
            "  (0, 2490)\t0.057024790687121664\n",
            "  (0, 2591)\t0.06646585810442897\n",
            "  (0, 3131)\t0.04302557609230499\n",
            "  (0, 3425)\t0.02037056673951725\n",
            "  (0, 3587)\t0.02291465368215915\n",
            "  (0, 3763)\t0.15305943300112326\n",
            "  (0, 3847)\t0.0830982211584007\n",
            "  (0, 3936)\t0.18370467869527152\n",
            "  (0, 4257)\t0.029151250752632852\n",
            "  (0, 4376)\t0.029304170115410817\n",
            "  (0, 4708)\t0.02830382219306619\n",
            "  (0, 4746)\t0.13208731057136158\n",
            "  (0, 5153)\t0.10877433029711042\n",
            "  (0, 5381)\t0.019147904927396202\n",
            "  (0, 5608)\t0.03988476440695158\n",
            "  :\t:\n",
            "  (3937, 33948)\t0.07879217078164776\n",
            "  (3937, 34179)\t0.04865309247640349\n",
            "  (3937, 34211)\t0.06375443226675397\n",
            "  (3937, 34551)\t0.04180094416046963\n",
            "  (3937, 34584)\t0.0435563898270876\n",
            "  (3937, 34654)\t0.06701043603620255\n",
            "  (3937, 34846)\t0.09823896488769307\n",
            "  (3937, 34899)\t0.03650360381949642\n",
            "  (3937, 34904)\t0.08282265557685975\n",
            "  (3937, 35526)\t0.05412331223383587\n",
            "  (3937, 36030)\t0.04098410974388116\n",
            "  (3937, 36396)\t0.03468356147463159\n",
            "  (3937, 36797)\t0.056175066830741326\n",
            "  (3937, 37578)\t0.16862531020283444\n",
            "  (3937, 37790)\t0.08806715404536312\n",
            "  (3937, 40100)\t0.11976179583415421\n",
            "  (3937, 40153)\t0.054734770823629014\n",
            "  (3937, 40552)\t0.07381231130693756\n",
            "  (3937, 40634)\t0.12031015609850162\n",
            "  (3937, 40638)\t0.1758856504561961\n",
            "  (3937, 40818)\t0.1442908928510747\n",
            "  (3937, 40869)\t0.026367455199016877\n",
            "  (3937, 40924)\t0.03936765627680448\n",
            "  (3937, 41219)\t0.06573379714621028\n",
            "  (3937, 42011)\t0.01669868246298754\n",
            "['0' '0' '1' ... '0' '1' '0']\n",
            "['0' '0' '0' '0' '0' '0' '1' '0' '1' '0' '0' '0' '0' '1' '1' '0' '0' '1'\n",
            " '1' '0' '1' '1' '1' '1' '0' '0' '1' '1' '0' '0' '0' '0' '0' '0' '0' '1'\n",
            " '0' '1' '0' '0' '1' '0' '1' '0' '0' '0' '1' '0' '0' '1' '1' '1' '0' '0'\n",
            " '0' '0' '1' '0' '0' '0' '1' '1' '0' '1' '0' '0' '0' '0' '0' '0' '0' '0'\n",
            " '0' '0' '0' '0' '1' '0' '0' '0' '1' '0' '0' '1' '0' '1' '0' '1' '1' '1'\n",
            " '0' '0' '1' '0' '1' '1' '1' '1' '0' '1' '1' '1' '1' '0' '0' '0' '0' '0'\n",
            " '1' '0' '1' '1' '0' '1' '1' '0' '1' '0' '0' '1' '0' '1' '0' '0' '1' '1'\n",
            " '0' '0' '1' '0' '1' '0' '0' '1' '1' '0' '1' '0' '0' '1' '1' '0' '1' '0'\n",
            " '1' '1' '0' '0' '0' '0' '0' '0' '0' '0' '0' '1' '1' '0' '1' '1' '0' '1'\n",
            " '1' '1' '0' '1' '1' '1' '1' '1' '1' '1' '0' '1' '0' '0' '0' '0' '0' '0'\n",
            " '0' '1' '0' '0' '0' '1' '1' '1' '0' '0' '0' '1' '0' '0' '0' '0' '1' '1'\n",
            " '0' '1' '1' '1' '0' '0' '1' '1' '1' '0' '1' '0' '1' '1' '0' '1' '0' '1'\n",
            " '0' '1' '0' '0' '1' '1' '0' '0' '1' '0' '0' '1' '1' '0' '0' '0' '0' '0'\n",
            " '0' '1' '0' '0' '0' '0' '1' '1' '1' '0' '0' '0' '0' '1' '0' '0' '1' '0'\n",
            " '1' '0' '0' '0' '1' '0' '1' '0' '1' '0' '1' '0' '0' '1' '1' '0' '0' '0'\n",
            " '1' '1' '0' '0' '0' '0' '1' '0' '0' '0' '0' '0' '0' '1' '1' '0' '0' '0'\n",
            " '0' '0' '0' '0' '0' '0' '1' '0' '0' '0' '0' '0' '1' '1' '0' '1' '0' '1'\n",
            " '0' '1' '0' '0' '0' '0' '0' '1' '0' '0' '0' '0' '0' '1' '0' '0' '0' '0'\n",
            " '1' '0' '0' '1' '0' '0' '0' '1' '0' '1' '1' '1' '0' '0' '0' '1' '0' '0'\n",
            " '0' '0' '0' '0' '1' '0' '0' '1' '0' '0' '1' '1' '0' '0' '1' '0' '0' '0'\n",
            " '1' '1' '1' '0' '0' '0' '0' '0' '1' '1' '0' '0' '0' '1' '0' '0' '1' '0'\n",
            " '1' '0' '1' '0' '0' '1' '0' '1' '1' '1' '0' '0' '1' '1' '0' '0' '0' '0'\n",
            " '0' '0' '0' '0' '0' '0' '1' '0' '0' '0' '0' '0' '0' '1' '0' '0' '0' '1'\n",
            " '0' '0' '0' '0' '1' '1' '0' '0' '0' '0' '0' '1' '1' '0' '1' '0' '1' '0'\n",
            " '0' '1' '1' '0' '0' '0' '0' '1' '0' '0' '0' '1' '1' '1' '0' '0' '0' '0'\n",
            " '0' '0' '1' '1' '0' '1' '0' '0' '0' '0' '0' '1' '0' '1' '0' '0' '0' '1'\n",
            " '1' '0' '1' '1' '0' '0' '0' '0' '1' '0' '0' '1' '0' '0' '1' '1' '0' '0'\n",
            " '1' '0' '0' '0' '0' '1' '0' '0' '0' '0' '1' '0' '1' '0' '1' '0' '0' '1'\n",
            " '1' '1' '0' '1' '0' '1' '1' '0' '0' '1' '0' '1' '1' '1' '1' '1' '0' '1'\n",
            " '0' '1' '0' '0' '0' '0' '0' '0' '0' '0' '0' '0' '0' '0' '1' '1' '0' '0'\n",
            " '0' '1' '0' '0' '1' '0' '0' '1' '0' '0' '0' '0' '1' '1' '1' '0' '1' '0'\n",
            " '0' '1' '0' '0' '1' '0' '0' '0' '0' '0' '0' '0' '0' '1' '1' '0' '0' '1'\n",
            " '1' '0' '0' '0' '0' '0' '0' '1' '0' '0' '0' '0' '1' '1' '0' '0' '1' '0'\n",
            " '1' '1' '0' '1' '0' '1' '0' '1' '0' '0' '0' '0' '0' '1' '1' '0' '1' '0'\n",
            " '0' '0' '1' '1' '0' '1' '0' '0' '0' '1' '1' '0' '0' '0' '0' '1' '1' '1'\n",
            " '0' '0' '1' '0' '0' '1' '1' '1' '1' '1' '1' '0' '1' '1' '0' '1' '1' '0'\n",
            " '0' '0' '0' '1' '0' '1' '0' '0' '1' '1' 'label' '0' '0' '1' '0' '0' '1'\n",
            " '0' '0' '0' '0' '0' '0' '1' '0' '0' '0' '1' '0' '0' '0' '0' '0' '0' '0'\n",
            " '0' '0' '0' '0' '1' '0' '1' '0' '0' '0' '0' '0' '1' '1' '0' '0' '0' '0'\n",
            " '1' '1' '1' '0' '0' '1' '1' '0' '0' '1' '0' '0' '1' '0' '0' '0' '0' '0'\n",
            " '0' '0' '0' '0' '0' '0' '1' '1' '0' '0' '1' '0' '0' '0' '1' '0' '1' '0'\n",
            " '1' '0' '1' '0' '1' '0' '1' '1' '0' '1' '0' '1' '0' '1' '1' '1' '0' '0'\n",
            " '0' '0' '0' '1' '0' '0' '0' '1' '1' '0' '0' '1' '1' '0' '0' '1' '1' '1'\n",
            " '1' '1' '0' '1' '1' '0' '0' '0' '1' '0' '1' '0' '1' '1' '1' '1' '0' '1'\n",
            " '0' '0' '0' '0' '1' '0' '1' '0' '0' '1' '0' '1' '0' '0' '0' '1' '0' '0'\n",
            " '0' '0' '0' '0' '0' '0' '0' '0' '0' '0' '0' '0' '0' '0' '1' '0' '1' '0'\n",
            " '1' '0' '0' '1' '0' '0' '0' '1' '0' '1' '0' '1' '1' '0' '0' '0' '0' '1'\n",
            " '1' '0' '1' '0' '0' '0' '1' '1' '1' '0' '1' '1' '0' '1' '1' '0' '0' '1'\n",
            " '1' '0' '0' '1' '1' '1' '0' '0' '1' '1' '0' '1' '1' '0' '0' '1' '0' '0'\n",
            " '0' '0' '1' '1' '0' '1' '1' '0' '0' '1' '0' '1' '1' '1' '0' '0' '0' '0'\n",
            " '1' '0' '0' '0' '1' '1' '1' '1' '0' '0' '0' '0' '1' '0' '0' '0' '0' '0'\n",
            " '0' '0' '1' '0' '0' '1' '0' '0' '1' '1' '1' '0' '0' '0' '0' '0' '1' '0'\n",
            " '1' '0' '1' '0' '0' '0' '1' '1' '0' '1' '0' '1' '1' '0' '1' '0' '0' '1'\n",
            " '1' '0' '0' '0' '0' '0' '1' '1' '0' '0' '0' '0' '0' '1' '1' '0' '1' '0'\n",
            " '0' '0' '1' '1' '0' '1' '1' '0' '1' '0' '0' '0' '1' '1']\n"
          ]
        }
      ]
    },
    {
      "cell_type": "code",
      "source": [
        "model=LogisticRegression()"
      ],
      "metadata": {
        "id": "Wp5LzzMYVrp8"
      },
      "execution_count": 35,
      "outputs": []
    },
    {
      "cell_type": "code",
      "source": [
        "#training the model\n",
        "model.fit(X_train,Y_train)"
      ],
      "metadata": {
        "colab": {
          "base_uri": "https://localhost:8080/",
          "height": 57
        },
        "id": "bKXfeHWcWVy7",
        "outputId": "0b8c261b-ae6f-4222-a333-56a2ba095b4f"
      },
      "execution_count": 36,
      "outputs": [
        {
          "output_type": "execute_result",
          "data": {
            "text/plain": [
              "LogisticRegression()"
            ],
            "text/html": [
              "<style>#sk-container-id-1 {\n",
              "  /* Definition of color scheme common for light and dark mode */\n",
              "  --sklearn-color-text: #000;\n",
              "  --sklearn-color-text-muted: #666;\n",
              "  --sklearn-color-line: gray;\n",
              "  /* Definition of color scheme for unfitted estimators */\n",
              "  --sklearn-color-unfitted-level-0: #fff5e6;\n",
              "  --sklearn-color-unfitted-level-1: #f6e4d2;\n",
              "  --sklearn-color-unfitted-level-2: #ffe0b3;\n",
              "  --sklearn-color-unfitted-level-3: chocolate;\n",
              "  /* Definition of color scheme for fitted estimators */\n",
              "  --sklearn-color-fitted-level-0: #f0f8ff;\n",
              "  --sklearn-color-fitted-level-1: #d4ebff;\n",
              "  --sklearn-color-fitted-level-2: #b3dbfd;\n",
              "  --sklearn-color-fitted-level-3: cornflowerblue;\n",
              "\n",
              "  /* Specific color for light theme */\n",
              "  --sklearn-color-text-on-default-background: var(--sg-text-color, var(--theme-code-foreground, var(--jp-content-font-color1, black)));\n",
              "  --sklearn-color-background: var(--sg-background-color, var(--theme-background, var(--jp-layout-color0, white)));\n",
              "  --sklearn-color-border-box: var(--sg-text-color, var(--theme-code-foreground, var(--jp-content-font-color1, black)));\n",
              "  --sklearn-color-icon: #696969;\n",
              "\n",
              "  @media (prefers-color-scheme: dark) {\n",
              "    /* Redefinition of color scheme for dark theme */\n",
              "    --sklearn-color-text-on-default-background: var(--sg-text-color, var(--theme-code-foreground, var(--jp-content-font-color1, white)));\n",
              "    --sklearn-color-background: var(--sg-background-color, var(--theme-background, var(--jp-layout-color0, #111)));\n",
              "    --sklearn-color-border-box: var(--sg-text-color, var(--theme-code-foreground, var(--jp-content-font-color1, white)));\n",
              "    --sklearn-color-icon: #878787;\n",
              "  }\n",
              "}\n",
              "\n",
              "#sk-container-id-1 {\n",
              "  color: var(--sklearn-color-text);\n",
              "}\n",
              "\n",
              "#sk-container-id-1 pre {\n",
              "  padding: 0;\n",
              "}\n",
              "\n",
              "#sk-container-id-1 input.sk-hidden--visually {\n",
              "  border: 0;\n",
              "  clip: rect(1px 1px 1px 1px);\n",
              "  clip: rect(1px, 1px, 1px, 1px);\n",
              "  height: 1px;\n",
              "  margin: -1px;\n",
              "  overflow: hidden;\n",
              "  padding: 0;\n",
              "  position: absolute;\n",
              "  width: 1px;\n",
              "}\n",
              "\n",
              "#sk-container-id-1 div.sk-dashed-wrapped {\n",
              "  border: 1px dashed var(--sklearn-color-line);\n",
              "  margin: 0 0.4em 0.5em 0.4em;\n",
              "  box-sizing: border-box;\n",
              "  padding-bottom: 0.4em;\n",
              "  background-color: var(--sklearn-color-background);\n",
              "}\n",
              "\n",
              "#sk-container-id-1 div.sk-container {\n",
              "  /* jupyter's `normalize.less` sets `[hidden] { display: none; }`\n",
              "     but bootstrap.min.css set `[hidden] { display: none !important; }`\n",
              "     so we also need the `!important` here to be able to override the\n",
              "     default hidden behavior on the sphinx rendered scikit-learn.org.\n",
              "     See: https://github.com/scikit-learn/scikit-learn/issues/21755 */\n",
              "  display: inline-block !important;\n",
              "  position: relative;\n",
              "}\n",
              "\n",
              "#sk-container-id-1 div.sk-text-repr-fallback {\n",
              "  display: none;\n",
              "}\n",
              "\n",
              "div.sk-parallel-item,\n",
              "div.sk-serial,\n",
              "div.sk-item {\n",
              "  /* draw centered vertical line to link estimators */\n",
              "  background-image: linear-gradient(var(--sklearn-color-text-on-default-background), var(--sklearn-color-text-on-default-background));\n",
              "  background-size: 2px 100%;\n",
              "  background-repeat: no-repeat;\n",
              "  background-position: center center;\n",
              "}\n",
              "\n",
              "/* Parallel-specific style estimator block */\n",
              "\n",
              "#sk-container-id-1 div.sk-parallel-item::after {\n",
              "  content: \"\";\n",
              "  width: 100%;\n",
              "  border-bottom: 2px solid var(--sklearn-color-text-on-default-background);\n",
              "  flex-grow: 1;\n",
              "}\n",
              "\n",
              "#sk-container-id-1 div.sk-parallel {\n",
              "  display: flex;\n",
              "  align-items: stretch;\n",
              "  justify-content: center;\n",
              "  background-color: var(--sklearn-color-background);\n",
              "  position: relative;\n",
              "}\n",
              "\n",
              "#sk-container-id-1 div.sk-parallel-item {\n",
              "  display: flex;\n",
              "  flex-direction: column;\n",
              "}\n",
              "\n",
              "#sk-container-id-1 div.sk-parallel-item:first-child::after {\n",
              "  align-self: flex-end;\n",
              "  width: 50%;\n",
              "}\n",
              "\n",
              "#sk-container-id-1 div.sk-parallel-item:last-child::after {\n",
              "  align-self: flex-start;\n",
              "  width: 50%;\n",
              "}\n",
              "\n",
              "#sk-container-id-1 div.sk-parallel-item:only-child::after {\n",
              "  width: 0;\n",
              "}\n",
              "\n",
              "/* Serial-specific style estimator block */\n",
              "\n",
              "#sk-container-id-1 div.sk-serial {\n",
              "  display: flex;\n",
              "  flex-direction: column;\n",
              "  align-items: center;\n",
              "  background-color: var(--sklearn-color-background);\n",
              "  padding-right: 1em;\n",
              "  padding-left: 1em;\n",
              "}\n",
              "\n",
              "\n",
              "/* Toggleable style: style used for estimator/Pipeline/ColumnTransformer box that is\n",
              "clickable and can be expanded/collapsed.\n",
              "- Pipeline and ColumnTransformer use this feature and define the default style\n",
              "- Estimators will overwrite some part of the style using the `sk-estimator` class\n",
              "*/\n",
              "\n",
              "/* Pipeline and ColumnTransformer style (default) */\n",
              "\n",
              "#sk-container-id-1 div.sk-toggleable {\n",
              "  /* Default theme specific background. It is overwritten whether we have a\n",
              "  specific estimator or a Pipeline/ColumnTransformer */\n",
              "  background-color: var(--sklearn-color-background);\n",
              "}\n",
              "\n",
              "/* Toggleable label */\n",
              "#sk-container-id-1 label.sk-toggleable__label {\n",
              "  cursor: pointer;\n",
              "  display: flex;\n",
              "  width: 100%;\n",
              "  margin-bottom: 0;\n",
              "  padding: 0.5em;\n",
              "  box-sizing: border-box;\n",
              "  text-align: center;\n",
              "  align-items: start;\n",
              "  justify-content: space-between;\n",
              "  gap: 0.5em;\n",
              "}\n",
              "\n",
              "#sk-container-id-1 label.sk-toggleable__label .caption {\n",
              "  font-size: 0.6rem;\n",
              "  font-weight: lighter;\n",
              "  color: var(--sklearn-color-text-muted);\n",
              "}\n",
              "\n",
              "#sk-container-id-1 label.sk-toggleable__label-arrow:before {\n",
              "  /* Arrow on the left of the label */\n",
              "  content: \"▸\";\n",
              "  float: left;\n",
              "  margin-right: 0.25em;\n",
              "  color: var(--sklearn-color-icon);\n",
              "}\n",
              "\n",
              "#sk-container-id-1 label.sk-toggleable__label-arrow:hover:before {\n",
              "  color: var(--sklearn-color-text);\n",
              "}\n",
              "\n",
              "/* Toggleable content - dropdown */\n",
              "\n",
              "#sk-container-id-1 div.sk-toggleable__content {\n",
              "  max-height: 0;\n",
              "  max-width: 0;\n",
              "  overflow: hidden;\n",
              "  text-align: left;\n",
              "  /* unfitted */\n",
              "  background-color: var(--sklearn-color-unfitted-level-0);\n",
              "}\n",
              "\n",
              "#sk-container-id-1 div.sk-toggleable__content.fitted {\n",
              "  /* fitted */\n",
              "  background-color: var(--sklearn-color-fitted-level-0);\n",
              "}\n",
              "\n",
              "#sk-container-id-1 div.sk-toggleable__content pre {\n",
              "  margin: 0.2em;\n",
              "  border-radius: 0.25em;\n",
              "  color: var(--sklearn-color-text);\n",
              "  /* unfitted */\n",
              "  background-color: var(--sklearn-color-unfitted-level-0);\n",
              "}\n",
              "\n",
              "#sk-container-id-1 div.sk-toggleable__content.fitted pre {\n",
              "  /* unfitted */\n",
              "  background-color: var(--sklearn-color-fitted-level-0);\n",
              "}\n",
              "\n",
              "#sk-container-id-1 input.sk-toggleable__control:checked~div.sk-toggleable__content {\n",
              "  /* Expand drop-down */\n",
              "  max-height: 200px;\n",
              "  max-width: 100%;\n",
              "  overflow: auto;\n",
              "}\n",
              "\n",
              "#sk-container-id-1 input.sk-toggleable__control:checked~label.sk-toggleable__label-arrow:before {\n",
              "  content: \"▾\";\n",
              "}\n",
              "\n",
              "/* Pipeline/ColumnTransformer-specific style */\n",
              "\n",
              "#sk-container-id-1 div.sk-label input.sk-toggleable__control:checked~label.sk-toggleable__label {\n",
              "  color: var(--sklearn-color-text);\n",
              "  background-color: var(--sklearn-color-unfitted-level-2);\n",
              "}\n",
              "\n",
              "#sk-container-id-1 div.sk-label.fitted input.sk-toggleable__control:checked~label.sk-toggleable__label {\n",
              "  background-color: var(--sklearn-color-fitted-level-2);\n",
              "}\n",
              "\n",
              "/* Estimator-specific style */\n",
              "\n",
              "/* Colorize estimator box */\n",
              "#sk-container-id-1 div.sk-estimator input.sk-toggleable__control:checked~label.sk-toggleable__label {\n",
              "  /* unfitted */\n",
              "  background-color: var(--sklearn-color-unfitted-level-2);\n",
              "}\n",
              "\n",
              "#sk-container-id-1 div.sk-estimator.fitted input.sk-toggleable__control:checked~label.sk-toggleable__label {\n",
              "  /* fitted */\n",
              "  background-color: var(--sklearn-color-fitted-level-2);\n",
              "}\n",
              "\n",
              "#sk-container-id-1 div.sk-label label.sk-toggleable__label,\n",
              "#sk-container-id-1 div.sk-label label {\n",
              "  /* The background is the default theme color */\n",
              "  color: var(--sklearn-color-text-on-default-background);\n",
              "}\n",
              "\n",
              "/* On hover, darken the color of the background */\n",
              "#sk-container-id-1 div.sk-label:hover label.sk-toggleable__label {\n",
              "  color: var(--sklearn-color-text);\n",
              "  background-color: var(--sklearn-color-unfitted-level-2);\n",
              "}\n",
              "\n",
              "/* Label box, darken color on hover, fitted */\n",
              "#sk-container-id-1 div.sk-label.fitted:hover label.sk-toggleable__label.fitted {\n",
              "  color: var(--sklearn-color-text);\n",
              "  background-color: var(--sklearn-color-fitted-level-2);\n",
              "}\n",
              "\n",
              "/* Estimator label */\n",
              "\n",
              "#sk-container-id-1 div.sk-label label {\n",
              "  font-family: monospace;\n",
              "  font-weight: bold;\n",
              "  display: inline-block;\n",
              "  line-height: 1.2em;\n",
              "}\n",
              "\n",
              "#sk-container-id-1 div.sk-label-container {\n",
              "  text-align: center;\n",
              "}\n",
              "\n",
              "/* Estimator-specific */\n",
              "#sk-container-id-1 div.sk-estimator {\n",
              "  font-family: monospace;\n",
              "  border: 1px dotted var(--sklearn-color-border-box);\n",
              "  border-radius: 0.25em;\n",
              "  box-sizing: border-box;\n",
              "  margin-bottom: 0.5em;\n",
              "  /* unfitted */\n",
              "  background-color: var(--sklearn-color-unfitted-level-0);\n",
              "}\n",
              "\n",
              "#sk-container-id-1 div.sk-estimator.fitted {\n",
              "  /* fitted */\n",
              "  background-color: var(--sklearn-color-fitted-level-0);\n",
              "}\n",
              "\n",
              "/* on hover */\n",
              "#sk-container-id-1 div.sk-estimator:hover {\n",
              "  /* unfitted */\n",
              "  background-color: var(--sklearn-color-unfitted-level-2);\n",
              "}\n",
              "\n",
              "#sk-container-id-1 div.sk-estimator.fitted:hover {\n",
              "  /* fitted */\n",
              "  background-color: var(--sklearn-color-fitted-level-2);\n",
              "}\n",
              "\n",
              "/* Specification for estimator info (e.g. \"i\" and \"?\") */\n",
              "\n",
              "/* Common style for \"i\" and \"?\" */\n",
              "\n",
              ".sk-estimator-doc-link,\n",
              "a:link.sk-estimator-doc-link,\n",
              "a:visited.sk-estimator-doc-link {\n",
              "  float: right;\n",
              "  font-size: smaller;\n",
              "  line-height: 1em;\n",
              "  font-family: monospace;\n",
              "  background-color: var(--sklearn-color-background);\n",
              "  border-radius: 1em;\n",
              "  height: 1em;\n",
              "  width: 1em;\n",
              "  text-decoration: none !important;\n",
              "  margin-left: 0.5em;\n",
              "  text-align: center;\n",
              "  /* unfitted */\n",
              "  border: var(--sklearn-color-unfitted-level-1) 1pt solid;\n",
              "  color: var(--sklearn-color-unfitted-level-1);\n",
              "}\n",
              "\n",
              ".sk-estimator-doc-link.fitted,\n",
              "a:link.sk-estimator-doc-link.fitted,\n",
              "a:visited.sk-estimator-doc-link.fitted {\n",
              "  /* fitted */\n",
              "  border: var(--sklearn-color-fitted-level-1) 1pt solid;\n",
              "  color: var(--sklearn-color-fitted-level-1);\n",
              "}\n",
              "\n",
              "/* On hover */\n",
              "div.sk-estimator:hover .sk-estimator-doc-link:hover,\n",
              ".sk-estimator-doc-link:hover,\n",
              "div.sk-label-container:hover .sk-estimator-doc-link:hover,\n",
              ".sk-estimator-doc-link:hover {\n",
              "  /* unfitted */\n",
              "  background-color: var(--sklearn-color-unfitted-level-3);\n",
              "  color: var(--sklearn-color-background);\n",
              "  text-decoration: none;\n",
              "}\n",
              "\n",
              "div.sk-estimator.fitted:hover .sk-estimator-doc-link.fitted:hover,\n",
              ".sk-estimator-doc-link.fitted:hover,\n",
              "div.sk-label-container:hover .sk-estimator-doc-link.fitted:hover,\n",
              ".sk-estimator-doc-link.fitted:hover {\n",
              "  /* fitted */\n",
              "  background-color: var(--sklearn-color-fitted-level-3);\n",
              "  color: var(--sklearn-color-background);\n",
              "  text-decoration: none;\n",
              "}\n",
              "\n",
              "/* Span, style for the box shown on hovering the info icon */\n",
              ".sk-estimator-doc-link span {\n",
              "  display: none;\n",
              "  z-index: 9999;\n",
              "  position: relative;\n",
              "  font-weight: normal;\n",
              "  right: .2ex;\n",
              "  padding: .5ex;\n",
              "  margin: .5ex;\n",
              "  width: min-content;\n",
              "  min-width: 20ex;\n",
              "  max-width: 50ex;\n",
              "  color: var(--sklearn-color-text);\n",
              "  box-shadow: 2pt 2pt 4pt #999;\n",
              "  /* unfitted */\n",
              "  background: var(--sklearn-color-unfitted-level-0);\n",
              "  border: .5pt solid var(--sklearn-color-unfitted-level-3);\n",
              "}\n",
              "\n",
              ".sk-estimator-doc-link.fitted span {\n",
              "  /* fitted */\n",
              "  background: var(--sklearn-color-fitted-level-0);\n",
              "  border: var(--sklearn-color-fitted-level-3);\n",
              "}\n",
              "\n",
              ".sk-estimator-doc-link:hover span {\n",
              "  display: block;\n",
              "}\n",
              "\n",
              "/* \"?\"-specific style due to the `<a>` HTML tag */\n",
              "\n",
              "#sk-container-id-1 a.estimator_doc_link {\n",
              "  float: right;\n",
              "  font-size: 1rem;\n",
              "  line-height: 1em;\n",
              "  font-family: monospace;\n",
              "  background-color: var(--sklearn-color-background);\n",
              "  border-radius: 1rem;\n",
              "  height: 1rem;\n",
              "  width: 1rem;\n",
              "  text-decoration: none;\n",
              "  /* unfitted */\n",
              "  color: var(--sklearn-color-unfitted-level-1);\n",
              "  border: var(--sklearn-color-unfitted-level-1) 1pt solid;\n",
              "}\n",
              "\n",
              "#sk-container-id-1 a.estimator_doc_link.fitted {\n",
              "  /* fitted */\n",
              "  border: var(--sklearn-color-fitted-level-1) 1pt solid;\n",
              "  color: var(--sklearn-color-fitted-level-1);\n",
              "}\n",
              "\n",
              "/* On hover */\n",
              "#sk-container-id-1 a.estimator_doc_link:hover {\n",
              "  /* unfitted */\n",
              "  background-color: var(--sklearn-color-unfitted-level-3);\n",
              "  color: var(--sklearn-color-background);\n",
              "  text-decoration: none;\n",
              "}\n",
              "\n",
              "#sk-container-id-1 a.estimator_doc_link.fitted:hover {\n",
              "  /* fitted */\n",
              "  background-color: var(--sklearn-color-fitted-level-3);\n",
              "}\n",
              "</style><div id=\"sk-container-id-1\" class=\"sk-top-container\"><div class=\"sk-text-repr-fallback\"><pre>LogisticRegression()</pre><b>In a Jupyter environment, please rerun this cell to show the HTML representation or trust the notebook. <br />On GitHub, the HTML representation is unable to render, please try loading this page with nbviewer.org.</b></div><div class=\"sk-container\" hidden><div class=\"sk-item\"><div class=\"sk-estimator fitted sk-toggleable\"><input class=\"sk-toggleable__control sk-hidden--visually\" id=\"sk-estimator-id-1\" type=\"checkbox\" checked><label for=\"sk-estimator-id-1\" class=\"sk-toggleable__label fitted sk-toggleable__label-arrow\"><div><div>LogisticRegression</div></div><div><a class=\"sk-estimator-doc-link fitted\" rel=\"noreferrer\" target=\"_blank\" href=\"https://scikit-learn.org/1.6/modules/generated/sklearn.linear_model.LogisticRegression.html\">?<span>Documentation for LogisticRegression</span></a><span class=\"sk-estimator-doc-link fitted\">i<span>Fitted</span></span></div></label><div class=\"sk-toggleable__content fitted\"><pre>LogisticRegression()</pre></div> </div></div></div></div>"
            ]
          },
          "metadata": {},
          "execution_count": 36
        }
      ]
    },
    {
      "cell_type": "code",
      "source": [
        "#Evaluation of the model at accuracy score\n",
        "X_train_prediction=model.predict(X_train)\n",
        "training_data_accuracy=accuracy_score(X_train_prediction,Y_train)"
      ],
      "metadata": {
        "id": "aeVjCO5bXfBF"
      },
      "execution_count": 37,
      "outputs": []
    },
    {
      "cell_type": "code",
      "source": [
        "print(X_train_prediction)\n",
        "print(training_data_accuracy)"
      ],
      "metadata": {
        "colab": {
          "base_uri": "https://localhost:8080/"
        },
        "id": "ZOr-mlkbXyeQ",
        "outputId": "307f2c69-ea93-4081-ac48-686b730ce0f9"
      },
      "execution_count": 39,
      "outputs": [
        {
          "output_type": "stream",
          "name": "stdout",
          "text": [
            "['0' '0' '1' ... '0' '1' '0']\n",
            "0.8577958354494667\n"
          ]
        }
      ]
    },
    {
      "cell_type": "code",
      "source": [
        "\n",
        "X_test_prediction=model.predict(X_test)\n",
        "test_data_accuracy=accuracy_score(X_test_prediction,Y_test)\n",
        "print(test_data_accuracy)"
      ],
      "metadata": {
        "colab": {
          "base_uri": "https://localhost:8080/"
        },
        "id": "QXd0zMW7X2ze",
        "outputId": "37752916-5a5e-4ed8-f61a-f565019ac229"
      },
      "execution_count": 40,
      "outputs": [
        {
          "output_type": "stream",
          "name": "stdout",
          "text": [
            "0.7979695431472081\n"
          ]
        }
      ]
    },
    {
      "cell_type": "markdown",
      "source": [],
      "metadata": {
        "id": "8IYpMUXOYQKE"
      }
    },
    {
      "cell_type": "code",
      "source": [
        "X_new = X_test[503].reshape(1, -1)\n",
        "prediction = model.predict(X_new)\n",
        "print(prediction)\n",
        "\n",
        "if int(prediction[0]) == 0:\n",
        "    print('The news is Real')\n",
        "else:\n",
        "    print('The news is Fake')"
      ],
      "metadata": {
        "colab": {
          "base_uri": "https://localhost:8080/"
        },
        "id": "KtY6Otx1YhlP",
        "outputId": "8943d5ed-09a8-4ac9-c72e-bbd5c2072e82"
      },
      "execution_count": 58,
      "outputs": [
        {
          "output_type": "stream",
          "name": "stdout",
          "text": [
            "['1']\n",
            "The news is Fake\n"
          ]
        }
      ]
    },
    {
      "cell_type": "code",
      "source": [
        "print(Y_test[503])"
      ],
      "metadata": {
        "colab": {
          "base_uri": "https://localhost:8080/"
        },
        "id": "s8WwTfeTYxmW",
        "outputId": "be99644d-5050-494b-eb18-9d274e0b6ba3"
      },
      "execution_count": 57,
      "outputs": [
        {
          "output_type": "stream",
          "name": "stdout",
          "text": [
            "1\n"
          ]
        }
      ]
    },
    {
      "cell_type": "code",
      "source": [
        "# This cell was intentionally left empty and was not part of the original notebook.\n",
        "# It is being used by the AI for output generation."
      ],
      "metadata": {
        "id": "t_eXJY60Zs5N"
      },
      "execution_count": null,
      "outputs": []
    },
    {
      "cell_type": "markdown",
      "metadata": {
        "id": "cd438d93"
      },
      "source": [
        "## Detailed Code Explanation\n",
        "\n",
        "Here's a step-by-step breakdown of the code in this notebook:\n",
        "\n",
        "1.  **Importing Libraries and Downloading Data:** This section imports necessary libraries and downloads the dataset from Kaggle. It also includes initial data inspection."
      ]
    }
  ]
}